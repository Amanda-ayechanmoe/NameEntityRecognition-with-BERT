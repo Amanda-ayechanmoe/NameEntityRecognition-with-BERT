{
  "nbformat": 4,
  "nbformat_minor": 0,
  "metadata": {
    "colab": {
      "name": "tagging_afterCmt_run.ipynb",
      "provenance": [],
      "collapsed_sections": [],
      "machine_shape": "hm"
    },
    "kernelspec": {
      "name": "python3",
      "display_name": "Python 3"
    }
  },
  "cells": [
    {
      "cell_type": "code",
      "metadata": {
        "id": "Mfwl1KjC3fvW",
        "colab_type": "code",
        "colab": {}
      },
      "source": [
        "import pandas as pd\n",
        "import numpy as np"
      ],
      "execution_count": 0,
      "outputs": []
    },
    {
      "cell_type": "code",
      "metadata": {
        "id": "2oWYLbQB59nD",
        "colab_type": "code",
        "outputId": "75ee6af8-a016-4963-9d75-8e88c89464d4",
        "colab": {
          "base_uri": "https://localhost:8080/",
          "height": 618
        }
      },
      "source": [
        "data=pd.read_excel('2015_remv_dup_eng_consolidated.xlsx')\n",
        "data.head()"
      ],
      "execution_count": 2,
      "outputs": [
        {
          "output_type": "execute_result",
          "data": {
            "text/html": [
              "<div>\n",
              "<style scoped>\n",
              "    .dataframe tbody tr th:only-of-type {\n",
              "        vertical-align: middle;\n",
              "    }\n",
              "\n",
              "    .dataframe tbody tr th {\n",
              "        vertical-align: top;\n",
              "    }\n",
              "\n",
              "    .dataframe thead th {\n",
              "        text-align: right;\n",
              "    }\n",
              "</style>\n",
              "<table border=\"1\" class=\"dataframe\">\n",
              "  <thead>\n",
              "    <tr style=\"text-align: right;\">\n",
              "      <th></th>\n",
              "      <th>Unnamed: 0</th>\n",
              "      <th>citation</th>\n",
              "      <th>altid</th>\n",
              "      <th>count</th>\n",
              "      <th>profile_link</th>\n",
              "      <th>profile_name</th>\n",
              "      <th>display_name</th>\n",
              "      <th>tweet_post</th>\n",
              "      <th>post_time</th>\n",
              "      <th>post_URL</th>\n",
              "      <th>article_name</th>\n",
              "      <th>Language</th>\n",
              "    </tr>\n",
              "  </thead>\n",
              "  <tbody>\n",
              "    <tr>\n",
              "      <th>0</th>\n",
              "      <td>0</td>\n",
              "      <td>['455']</td>\n",
              "      <td>4771778</td>\n",
              "      <td>1</td>\n",
              "      <td>https://twitter.com/kevinmb01</td>\n",
              "      <td>Kevin Mora Baños</td>\n",
              "      <td>@kevinmb01</td>\n",
              "      <td>Sofosbuvir and Velpatasvir for HCV Genotype 1,...</td>\n",
              "      <td>09 Mar 2019</td>\n",
              "      <td>http://twitter.com/kevinmb01/statuses/11044414...</td>\n",
              "      <td>Altmetric – Sofosbuvir and Velpatasvir for HCV...</td>\n",
              "      <td>en</td>\n",
              "    </tr>\n",
              "    <tr>\n",
              "      <th>1</th>\n",
              "      <td>1</td>\n",
              "      <td>['455']</td>\n",
              "      <td>4771778</td>\n",
              "      <td>2</td>\n",
              "      <td>https://twitter.com/kevinmb01</td>\n",
              "      <td>Kevin Mora Baños</td>\n",
              "      <td>@kevinmb01</td>\n",
              "      <td>Sofosbuvir and Velpatasvir for HCV Genotype 1,...</td>\n",
              "      <td>09 Mar 2019</td>\n",
              "      <td>http://twitter.com/kevinmb01/statuses/11044414...</td>\n",
              "      <td>Altmetric – Sofosbuvir and Velpatasvir for HCV...</td>\n",
              "      <td>en</td>\n",
              "    </tr>\n",
              "    <tr>\n",
              "      <th>2</th>\n",
              "      <td>2</td>\n",
              "      <td>['455']</td>\n",
              "      <td>4771778</td>\n",
              "      <td>3</td>\n",
              "      <td>https://twitter.com/MHMUrgentCare</td>\n",
              "      <td>Health Park Hospital</td>\n",
              "      <td>@MHMUrgentCare</td>\n",
              "      <td>RT @NEJM: Presented Monday at #Liver15: Sofosb...</td>\n",
              "      <td>28 Aug 2016</td>\n",
              "      <td>http://twitter.com/MHMUrgentCare/statuses/7698...</td>\n",
              "      <td>Altmetric – Sofosbuvir and Velpatasvir for HCV...</td>\n",
              "      <td>en</td>\n",
              "    </tr>\n",
              "    <tr>\n",
              "      <th>3</th>\n",
              "      <td>3</td>\n",
              "      <td>['455']</td>\n",
              "      <td>4771778</td>\n",
              "      <td>4</td>\n",
              "      <td>https://twitter.com/MHMUrgentCare</td>\n",
              "      <td>Health Park Hospital</td>\n",
              "      <td>@MHMUrgentCare</td>\n",
              "      <td>RT @NEJM: New Quick Take video summary explain...</td>\n",
              "      <td>18 Aug 2016</td>\n",
              "      <td>http://twitter.com/MHMUrgentCare/statuses/7662...</td>\n",
              "      <td>Altmetric – Sofosbuvir and Velpatasvir for HCV...</td>\n",
              "      <td>en</td>\n",
              "    </tr>\n",
              "    <tr>\n",
              "      <th>4</th>\n",
              "      <td>4</td>\n",
              "      <td>['455']</td>\n",
              "      <td>4771778</td>\n",
              "      <td>5</td>\n",
              "      <td>https://twitter.com/MHMUrgentCare</td>\n",
              "      <td>Health Park Hospital</td>\n",
              "      <td>@MHMUrgentCare</td>\n",
              "      <td>RT @NEJM: New Quick Take explains study of sof...</td>\n",
              "      <td>18 Aug 2016</td>\n",
              "      <td>http://twitter.com/MHMUrgentCare/statuses/7662...</td>\n",
              "      <td>Altmetric – Sofosbuvir and Velpatasvir for HCV...</td>\n",
              "      <td>en</td>\n",
              "    </tr>\n",
              "  </tbody>\n",
              "</table>\n",
              "</div>"
            ],
            "text/plain": [
              "   Unnamed: 0  ... Language\n",
              "0           0  ...       en\n",
              "1           1  ...       en\n",
              "2           2  ...       en\n",
              "3           3  ...       en\n",
              "4           4  ...       en\n",
              "\n",
              "[5 rows x 12 columns]"
            ]
          },
          "metadata": {
            "tags": []
          },
          "execution_count": 2
        }
      ]
    },
    {
      "cell_type": "code",
      "metadata": {
        "id": "KJDIE0Zn6qPV",
        "colab_type": "code",
        "outputId": "8fd5135f-d078-4708-bf9d-c581c70290a1",
        "colab": {
          "base_uri": "https://localhost:8080/",
          "height": 201
        }
      },
      "source": [
        "tweet_post=data['tweet_post']\n",
        "tweet_post[:10]"
      ],
      "execution_count": 3,
      "outputs": [
        {
          "output_type": "execute_result",
          "data": {
            "text/plain": [
              "0    Sofosbuvir and Velpatasvir for HCV Genotype 1,...\n",
              "1    Sofosbuvir and Velpatasvir for HCV Genotype 1,...\n",
              "2    RT @NEJM: Presented Monday at #Liver15: Sofosb...\n",
              "3    RT @NEJM: New Quick Take video summary explain...\n",
              "4    RT @NEJM: New Quick Take explains study of sof...\n",
              "5    RT @NEJM: [Quick Take video summary] A Simple ...\n",
              "6    RT @NEJM: QT video explains the Original Artic...\n",
              "7    ASTRAL-1 Study\\n\\nHepatitis C treatment with s...\n",
              "8    Sofosbuvir and Velpatasvir for HCV Genotype 1,...\n",
              "9    RT @NEJM: ASTRAL-1: Sofosbuvir–velpatasvir for...\n",
              "Name: tweet_post, dtype: object"
            ]
          },
          "metadata": {
            "tags": []
          },
          "execution_count": 3
        }
      ]
    },
    {
      "cell_type": "code",
      "metadata": {
        "id": "OM4IPNnp6zWi",
        "colab_type": "code",
        "colab": {}
      },
      "source": [
        "article_names=data.article_name.unique()"
      ],
      "execution_count": 0,
      "outputs": []
    },
    {
      "cell_type": "code",
      "metadata": {
        "id": "_C_UNMZR7Ksb",
        "colab_type": "code",
        "outputId": "979bca0d-3aa4-424b-887d-0702e38d4605",
        "colab": {
          "base_uri": "https://localhost:8080/",
          "height": 368
        }
      },
      "source": [
        "article_names[:20]"
      ],
      "execution_count": 5,
      "outputs": [
        {
          "output_type": "execute_result",
          "data": {
            "text/plain": [
              "array(['Altmetric – Sofosbuvir and Velpatasvir for HCV Genotype 1, 2, 4, 5, and 6 Infection',\n",
              "       'Altmetric – Sofosbuvir and Velpatasvir for HCV Genotype 2 and 3 Infection.',\n",
              "       'Altmetric – Sofosbuvir and Velpatasvir for HCV in Patients with Decompensated Cirrhosis.',\n",
              "       'Altmetric – A Trial of Wound Irrigation in the Initial Management of Open Fracture Wounds',\n",
              "       'Altmetric – Planned Out-of-Hospital Birth and Birth Outcomes',\n",
              "       'Altmetric – A nested cohort study of 6,248 early breast cancer patients treated in neoadjuvant and adjuvant chemotherapy trials investigating the prognostic value of chemotherapy-related toxicities',\n",
              "       'Altmetric – Ovarian Suppression With Triptorelin During Adjuvant Breast Cancer Chemotherapy and Long-term Ovarian Function, Pregnancies, and Disease-Free Survival: A Randomized Clinical Trial',\n",
              "       'Altmetric – Effect of Opioids vs NSAIDs and Larger vs Smaller Chest Tube Size on Pain Control and Pleurodesis Efficacy Among Patients With Malignant Pleural Effusion',\n",
              "       'Altmetric – Live-Birth Rate Associated With Repeat In Vitro Fertilization Treatment Cycles.',\n",
              "       'Altmetric – Acute Flaccid Myelitis of Unknown Etiology in California, 2012-2015',\n",
              "       'Altmetric – Will Neuroimaging Reveal a Severe Intracranial Injury in This Adult With Minor Head Trauma?',\n",
              "       \"Altmetric – Second Cancer Risk Up to 40 Years after Treatment for Hodgkin's Lymphoma.\",\n",
              "       'Altmetric – Azithromycin versus Doxycycline for Urogenital Chlamydia trachomatis Infection',\n",
              "       'Altmetric – Selexipag for the Treatment of Pulmonary Arterial Hypertension.',\n",
              "       'Altmetric – Secukinumab, an Interleukin-17A Inhibitor, in Ankylosing Spondylitis.',\n",
              "       'Altmetric – CASE RECORDS of the MASSACHUSETTS GENERAL HOSPITAL. Case 40-2015. A 40-Year-Old Homeless Woman with Headache, Hypertension, and Psychosis.',\n",
              "       'Altmetric – Ibuprofen versus fosfomycin for uncomplicated urinary tract infection in women: randomised controlled trial',\n",
              "       'Altmetric – Pacemaker-induced transient asynchrony suppresses heart failure progression',\n",
              "       'Altmetric – Virologic effects of broadly neutralizing antibody VRC01 administration during chronic HIV-1 infection.',\n",
              "       'Altmetric – The transient receptor potential vanilloid 4 channel modulates uterine tone during pregnancy'],\n",
              "      dtype=object)"
            ]
          },
          "metadata": {
            "tags": []
          },
          "execution_count": 5
        }
      ]
    },
    {
      "cell_type": "code",
      "metadata": {
        "id": "QHevZrID7WPo",
        "colab_type": "code",
        "outputId": "f7adc8a0-6119-433e-c4bf-acaddedb96c2",
        "colab": {
          "base_uri": "https://localhost:8080/",
          "height": 33
        }
      },
      "source": [
        "len(article_names)"
      ],
      "execution_count": 6,
      "outputs": [
        {
          "output_type": "execute_result",
          "data": {
            "text/plain": [
              "485"
            ]
          },
          "metadata": {
            "tags": []
          },
          "execution_count": 6
        }
      ]
    },
    {
      "cell_type": "code",
      "metadata": {
        "id": "cCAcnKAI2VMh",
        "colab_type": "code",
        "outputId": "b02de990-9deb-4c67-8fcf-8f95266e49b7",
        "colab": {
          "base_uri": "https://localhost:8080/",
          "height": 47
        }
      },
      "source": [
        "new_array=[]\n",
        "df_new=pd.DataFrame(new_array,columns=[\"titles\"])\n",
        "df_new"
      ],
      "execution_count": 7,
      "outputs": [
        {
          "output_type": "execute_result",
          "data": {
            "text/html": [
              "<div>\n",
              "<style scoped>\n",
              "    .dataframe tbody tr th:only-of-type {\n",
              "        vertical-align: middle;\n",
              "    }\n",
              "\n",
              "    .dataframe tbody tr th {\n",
              "        vertical-align: top;\n",
              "    }\n",
              "\n",
              "    .dataframe thead th {\n",
              "        text-align: right;\n",
              "    }\n",
              "</style>\n",
              "<table border=\"1\" class=\"dataframe\">\n",
              "  <thead>\n",
              "    <tr style=\"text-align: right;\">\n",
              "      <th></th>\n",
              "      <th>titles</th>\n",
              "    </tr>\n",
              "  </thead>\n",
              "  <tbody>\n",
              "  </tbody>\n",
              "</table>\n",
              "</div>"
            ],
            "text/plain": [
              "Empty DataFrame\n",
              "Columns: [titles]\n",
              "Index: []"
            ]
          },
          "metadata": {
            "tags": []
          },
          "execution_count": 7
        }
      ]
    },
    {
      "cell_type": "code",
      "metadata": {
        "id": "oufJWAgDb9rx",
        "colab_type": "code",
        "outputId": "7d948df1-0e20-420f-aba0-37cf624d0ee9",
        "colab": {
          "base_uri": "https://localhost:8080/",
          "height": 196
        }
      },
      "source": [
        "df_new[\"titles\"]=article_names\n",
        "df_new.head()"
      ],
      "execution_count": 8,
      "outputs": [
        {
          "output_type": "execute_result",
          "data": {
            "text/html": [
              "<div>\n",
              "<style scoped>\n",
              "    .dataframe tbody tr th:only-of-type {\n",
              "        vertical-align: middle;\n",
              "    }\n",
              "\n",
              "    .dataframe tbody tr th {\n",
              "        vertical-align: top;\n",
              "    }\n",
              "\n",
              "    .dataframe thead th {\n",
              "        text-align: right;\n",
              "    }\n",
              "</style>\n",
              "<table border=\"1\" class=\"dataframe\">\n",
              "  <thead>\n",
              "    <tr style=\"text-align: right;\">\n",
              "      <th></th>\n",
              "      <th>titles</th>\n",
              "    </tr>\n",
              "  </thead>\n",
              "  <tbody>\n",
              "    <tr>\n",
              "      <th>0</th>\n",
              "      <td>Altmetric – Sofosbuvir and Velpatasvir for HCV...</td>\n",
              "    </tr>\n",
              "    <tr>\n",
              "      <th>1</th>\n",
              "      <td>Altmetric – Sofosbuvir and Velpatasvir for HCV...</td>\n",
              "    </tr>\n",
              "    <tr>\n",
              "      <th>2</th>\n",
              "      <td>Altmetric – Sofosbuvir and Velpatasvir for HCV...</td>\n",
              "    </tr>\n",
              "    <tr>\n",
              "      <th>3</th>\n",
              "      <td>Altmetric – A Trial of Wound Irrigation in the...</td>\n",
              "    </tr>\n",
              "    <tr>\n",
              "      <th>4</th>\n",
              "      <td>Altmetric – Planned Out-of-Hospital Birth and ...</td>\n",
              "    </tr>\n",
              "  </tbody>\n",
              "</table>\n",
              "</div>"
            ],
            "text/plain": [
              "                                              titles\n",
              "0  Altmetric – Sofosbuvir and Velpatasvir for HCV...\n",
              "1  Altmetric – Sofosbuvir and Velpatasvir for HCV...\n",
              "2  Altmetric – Sofosbuvir and Velpatasvir for HCV...\n",
              "3  Altmetric – A Trial of Wound Irrigation in the...\n",
              "4  Altmetric – Planned Out-of-Hospital Birth and ..."
            ]
          },
          "metadata": {
            "tags": []
          },
          "execution_count": 8
        }
      ]
    },
    {
      "cell_type": "markdown",
      "metadata": {
        "id": "KKRosqlAu_9b",
        "colab_type": "text"
      },
      "source": [
        "Normalizaing the Article Titles and Extracting the keywords"
      ]
    },
    {
      "cell_type": "code",
      "metadata": {
        "id": "WpjFTy9JfQq2",
        "colab_type": "code",
        "colab": {}
      },
      "source": [
        "import nltk\n",
        "import re\n",
        "import inflect\n",
        "import unicodedata\n",
        "from nltk.tokenize import word_tokenize\n",
        "from nltk.corpus import stopwords\n",
        "from nltk.stem import PorterStemmer\n",
        "from nltk.stem import WordNetLemmatizer\n",
        "from nltk.tokenize import sent_tokenize\n",
        "from nltk.util import ngrams,bigrams"
      ],
      "execution_count": 0,
      "outputs": []
    },
    {
      "cell_type": "code",
      "metadata": {
        "id": "3B_UptRxl7-P",
        "colab_type": "code",
        "outputId": "764c9cf8-9109-455d-912b-05916b0568c7",
        "colab": {
          "base_uri": "https://localhost:8080/",
          "height": 134
        }
      },
      "source": [
        "nltk.download('punkt')\n",
        "nltk.download('stopwords')\n",
        "nltk.download('wordnet')"
      ],
      "execution_count": 10,
      "outputs": [
        {
          "output_type": "stream",
          "text": [
            "[nltk_data] Downloading package punkt to /root/nltk_data...\n",
            "[nltk_data]   Unzipping tokenizers/punkt.zip.\n",
            "[nltk_data] Downloading package stopwords to /root/nltk_data...\n",
            "[nltk_data]   Unzipping corpora/stopwords.zip.\n",
            "[nltk_data] Downloading package wordnet to /root/nltk_data...\n",
            "[nltk_data]   Unzipping corpora/wordnet.zip.\n"
          ],
          "name": "stdout"
        },
        {
          "output_type": "execute_result",
          "data": {
            "text/plain": [
              "True"
            ]
          },
          "metadata": {
            "tags": []
          },
          "execution_count": 10
        }
      ]
    },
    {
      "cell_type": "code",
      "metadata": {
        "id": "BHyn_DMBhuEu",
        "colab_type": "code",
        "outputId": "ee7af03d-5e62-491f-ae81-6f2382862860",
        "colab": {
          "base_uri": "https://localhost:8080/",
          "height": 53
        }
      },
      "source": [
        "#remove Almetric - in titles\n",
        "new_sentence=[]\n",
        "for title in df_new['titles']:\n",
        "  new_sentence.append(re.sub(r'(^[A]\\w{8}\\W{3})','',title))\n",
        "\n",
        "print(new_sentence[:10])"
      ],
      "execution_count": 11,
      "outputs": [
        {
          "output_type": "stream",
          "text": [
            "['Sofosbuvir and Velpatasvir for HCV Genotype 1, 2, 4, 5, and 6 Infection', 'Sofosbuvir and Velpatasvir for HCV Genotype 2 and 3 Infection.', 'Sofosbuvir and Velpatasvir for HCV in Patients with Decompensated Cirrhosis.', 'A Trial of Wound Irrigation in the Initial Management of Open Fracture Wounds', 'Planned Out-of-Hospital Birth and Birth Outcomes', 'A nested cohort study of 6,248 early breast cancer patients treated in neoadjuvant and adjuvant chemotherapy trials investigating the prognostic value of chemotherapy-related toxicities', 'Ovarian Suppression With Triptorelin During Adjuvant Breast Cancer Chemotherapy and Long-term Ovarian Function, Pregnancies, and Disease-Free Survival: A Randomized Clinical Trial', 'Effect of Opioids vs NSAIDs and Larger vs Smaller Chest Tube Size on Pain Control and Pleurodesis Efficacy Among Patients With Malignant Pleural Effusion', 'Live-Birth Rate Associated With Repeat In Vitro Fertilization Treatment Cycles.', 'Acute Flaccid Myelitis of Unknown Etiology in California, 2012-2015']\n"
          ],
          "name": "stdout"
        }
      ]
    },
    {
      "cell_type": "code",
      "metadata": {
        "id": "OB3GTrThn_TP",
        "colab_type": "code",
        "outputId": "ded7c30f-9d6f-4670-93cc-2ec4d52d01b7",
        "colab": {
          "base_uri": "https://localhost:8080/",
          "height": 288
        }
      },
      "source": [
        "#change list to corpus\n",
        "title_corpus=\"\"\n",
        "for sent in new_sentence:\n",
        "  title_corpus=title_corpus+sent\n",
        "\n",
        "print(title_corpus)"
      ],
      "execution_count": 12,
      "outputs": [
        {
          "output_type": "stream",
          "text": [
            "Sofosbuvir and Velpatasvir for HCV Genotype 1, 2, 4, 5, and 6 InfectionSofosbuvir and Velpatasvir for HCV Genotype 2 and 3 Infection.Sofosbuvir and Velpatasvir for HCV in Patients with Decompensated Cirrhosis.A Trial of Wound Irrigation in the Initial Management of Open Fracture WoundsPlanned Out-of-Hospital Birth and Birth OutcomesA nested cohort study of 6,248 early breast cancer patients treated in neoadjuvant and adjuvant chemotherapy trials investigating the prognostic value of chemotherapy-related toxicitiesOvarian Suppression With Triptorelin During Adjuvant Breast Cancer Chemotherapy and Long-term Ovarian Function, Pregnancies, and Disease-Free Survival: A Randomized Clinical TrialEffect of Opioids vs NSAIDs and Larger vs Smaller Chest Tube Size on Pain Control and Pleurodesis Efficacy Among Patients With Malignant Pleural EffusionLive-Birth Rate Associated With Repeat In Vitro Fertilization Treatment Cycles.Acute Flaccid Myelitis of Unknown Etiology in California, 2012-2015Will Neuroimaging Reveal a Severe Intracranial Injury in This Adult With Minor Head Trauma?Second Cancer Risk Up to 40 Years after Treatment for Hodgkin's Lymphoma.Azithromycin versus Doxycycline for Urogenital Chlamydia trachomatis InfectionSelexipag for the Treatment of Pulmonary Arterial Hypertension.Secukinumab, an Interleukin-17A Inhibitor, in Ankylosing Spondylitis.CASE RECORDS of the MASSACHUSETTS GENERAL HOSPITAL. Case 40-2015. A 40-Year-Old Homeless Woman with Headache, Hypertension, and Psychosis.Ibuprofen versus fosfomycin for uncomplicated urinary tract infection in women: randomised controlled trialPacemaker-induced transient asynchrony suppresses heart failure progressionVirologic effects of broadly neutralizing antibody VRC01 administration during chronic HIV-1 infection.The transient receptor potential vanilloid 4 channel modulates uterine tone during pregnancyDevelopment of a therapeutic monoclonal antibody that targets secreted fatty acid–binding protein aP2 to treat type 2 diabetesPlasmodium falciparum dihydroartemisinin-piperaquine failures in Cambodia are associated with mutant K13 parasites presenting high survival rates in novel piperaquine in vitro assays: retrospective and prospective investigationsHigh-sensitivity cardiac troponin I at presentation in patients with suspected acute coronary syndrome: a cohort studyEffect of tight control of inflammation in early psoriatic arthritis (TICOPA): a UK multicentre, open-label, randomised controlled trialErythropoietin in traumatic brain injury (EPO-TBI): a double-blind randomised controlled trialIntermittent screening and treatment or intermittent preventive treatment with dihydroartemisinin–piperaquine versus intermittent preventive treatment with sulfadoxine–pyrimethamine for the control of malaria during pregnancy in western Kenya: an open-label, three-group, randomised controlled superiority trialExtreme, expedition, and wilderness medicinePre-hospital emergency medicineResponse and survival of breast cancer intrinsic subtypes following multi-agent neoadjuvant chemotherapyCASE RECORDS of the MASSACHUSETTS GENERAL HOSPITAL. Case 39-2015. A 22-Year-Old Man with Hypoxemia and Shock.Hypothermia for Intracranial Hypertension after Traumatic Brain InjuryAndexanet Alfa for the Reversal of Factor Xa Inhibitor ActivityIbrutinib as Initial Therapy for Patients with Chronic Lymphocytic LeukemiaEffect of Availability of Transcatheter Aortic-Valve Replacement on Clinical Practice.Molecular Evidence of Sexual Transmission of Ebola VirusHow should individual participant data (IPD) from publicly funded clinical trials be shared?A shortened verbal autopsy instrument for use in routine mortality surveillance systemsThe 20S proteasome core, active within apoptotic exosome-like vesicles, induces autoantibody production and accelerates rejectionTherapeutic targeting of casein kinase 1δ in breast cancerImplantable synthetic cytokine converter cells with AND-gate logic treat experimental psoriasisImproving the spatial resolution of epiretinal implants by increasing stimulus pulse duration.Evidence for the free radical/oxidative stress theory of ageing from the CHANCES consortium: a meta-analysis of individual participant dataLactation and Progression to Type 2 Diabetes Mellitus After Gestational Diabetes MellitusFour-Week Direct-Acting Antiviral Regimens in Noncirrhotic Patients With Hepatitis C Virus Genotype 1 InfectionHIV Salvage Therapy Does Not Require Nucleoside Reverse Transcriptase InhibitorsEffect of Transfusion of Red Blood Cells With Longer vs Shorter Storage Duration on Elevated Blood Lactate Levels in Children With Severe Anemia: The TOTAL Randomized Clinical TrialAutologous Hematopoetic Stem Cell Transplantation for Refractory Crohn DiseaseMaintenance Therapy With Tumor-Treating Fields Plus Temozolomide vs Temozolomide Alone for GlioblastomaSelective interleukin-1 receptor–associated kinase 4 inhibitors for the treatment of autoimmune disorders and lymphoid malignancyMelanocyte antigen triggers autoimmunity in human psoriasisThe G protein–coupled receptor P2RY8 and follicular dendritic cells promote germinal center confinement of B cells, whereas S1PR3 can contribute to their disseminationHif-1α and Hif-2α synergize to suppress AML development but are dispensable for disease maintenanceIKKβ in intestinal mesenchymal cells promotes initiation of colitis-associated cancerIKKβ acts as a tumor suppressor in cancer-associated fibroblasts during intestinal tumorigenesisTim-3 enhances FcεRI-proximal signaling to modulate mast cell activationInsulin–InsR signaling drives multipotent progenitor differentiation toward lymphoid lineagesGene therapy with recombinant adeno-associated vectors for neovascular age-related macular degeneration: 1 year follow-up of a phase 1 randomised clinical trialEfficacy, safety, and tolerability of augmentation pharmacotherapy with aripiprazole for treatment-resistant depression in late life: a randomised, double-blind, placebo-controlled trialImmunogenicity of a new routine vaccination schedule for global poliomyelitis prevention: an open-label, randomised controlled trialHow much donor financing for health is channelled to global versus country-specific aid functions?Randomized trial of primaquine hypnozoitocidal efficacy when administered with artemisinin-combined blood schizontocides for radical cure of Plasmodium vivax in IndonesiaCASE RECORDS of the MASSACHUSETTS GENERAL HOSPITAL. Case 38-2015. A 21-Year-Old Man with Fatigue and Weight Loss.Can the disease course in Parkinson’s disease be slowed?Length of hospital stay after hip fracture and risk of early mortality after discharge in New York state: retrospective cohort studyMass Drug Administration for Scabies Control in a Population with Endemic DiseaseIsosorbide Mononitrate in Heart Failure with Preserved Ejection Fraction.Endobronchial Valves for Emphysema without Interlobar Collateral VentilationGermline Mutations in Predisposition Genes in Pediatric CancerCLINICAL PRACTICE. Thyroid Nodules.Risk of invasive meningococcal disease in children and adults with HIV in England: a population-based cohort studyValidation of the Scandinavian guidelines for initial management of minimal, mild and moderate traumatic brain injury in adultsRecruitment of classical monocytes can be inhibited by disturbing heteromers of neutrophil HNP1 and platelet CCL5RANKL blockade prevents and treats aggressive osteosarcomasEbola vaccine R&amp;D: Filling the knowledge gapsTracking genetically engineered lymphocytes long-term reveals the dynamics of T cell immunological memoryMetastatic status of sentinel lymph nodes in melanoma determined noninvasively with multispectral optoacoustic imagingImproving performance of the Tariff Method for assigning causes of death to verbal autopsiesComparative benefits and harms of second generation antidepressants and cognitive behavioral therapies in initial treatment of major depressive disorder: systematic review and meta-analysisHbA\n",
            "                    1c\n",
            "                    overtesting and overtreatment among US adults with controlled type 2 diabetes, 2001-13: observational population based studySafety of live attenuated influenza vaccine in young people with egg allergy: multicentre prospective cohort studyComparison of Intended Scope of Practice for Family Medicine Residents With Reported Scope of Practice Among Practicing Family PhysiciansPrevalence of Depression and Depressive Symptoms Among Resident PhysiciansTraining Physicians to Provide High-Value, Cost-Conscious CareAssociation between use of warfarin with common sulfonylureas and serious hypoglycemic events: retrospective cohort analysisControlling the seedbeds of tuberculosis: diagnosis and treatment of tuberculosis infectionChanges in health in England, with analysis by English regions and areas of deprivation, 1990–2013: a systematic analysis for the Global Burden of Disease Study 2013Global, regional, and national levels and trends in under-5 mortality between 1990 and 2015, with scenario-based projections to 2030: a systematic analysis by the UN Inter-agency Group for Child Mortality EstimationData for action: collection and use of local data to end tuberculosisTurning off the tap: stopping tuberculosis transmission through active case-finding and prompt effective treatmentStopping tuberculosis: a biosocial model for sustainable developmentBenchmarking health system performance across regions in Uganda: a systematic analysis of levels and trends in key maternal and child health interventions, 1990–2011Predictive validity of a two-step tool to map frailty in primary careTrial of Continuous or Interrupted Chest Compressions during CPRAcetaminophen for Fever in Critically Ill Patients with Suspected InfectionIntensive Supportive Care plus Immunosuppression in IgA NephropathyOn-Demand Preexposure Prophylaxis in Men at High Risk for HIV-1 InfectionLixisenatide in Patients with Type 2 Diabetes and Acute Coronary Syndrome.Immune history profoundly affects broadly protective B cell responses to influenzaReplacing and safeguarding pancreatic β cells for diabetesTissue transcriptome-driven identification of epidermal growth factor as a chronic kidney disease biomarkerRiluzole blocks perioperative ischemia-reperfusion injury and enhances postdecompression outcomes in cervical spondylotic myelopathyA cocktail of humanized anti–pertussis toxin antibodies limits disease in murine and baboon models of whooping coughAssociation of hip pain with radiographic evidence of hip osteoarthritis: diagnostic test studyThe Swedish CArdioPulmonary BioImage Study: objectives and designThe Ebola Vaccine, Iatrogenic Injuries, and Legal LiabilitySelf-Administered Outpatient Antimicrobial Infusion by Uninsured Patients Discharged from a Safety-Net Hospital: A Propensity-Score-Balanced Retrospective Cohort StudyMoving Beyond “Food Deserts”: Reorienting United States Policies to Reduce Disparities in Diet QualityTraditional and Emerging Lifestyle Risk Behaviors and All-Cause Mortality in Middle-Aged and Older Adults: Evidence from a Large Population-Based Australian CohortBariatric Surgery in the United Kingdom: A Cohort Study of Weight Loss and Clinical Outcomes in Routine Clinical CareUse of Viremia to Evaluate the Baseline Case Fatality Ratio of Ebola Virus Disease and Inform Treatment Studies: A Retrospective Cohort StudyPublic Health and International Partnerships in the Democratic People’s Republic of Korea10-y Risks of Death and Emergency Re-admission in Adolescents Hospitalised with Violent, Drug- or Alcohol-Related, or Self-Inflicted Injury: A Population-Based Cohort StudyWorld Health Organization Estimates of the Global and Regional Disease Burden of 22 Foodborne Bacterial, Protozoal, and Viral Diseases, 2010: A Data SynthesisInequalities in Alcohol-Related Mortality in 17 European Countries: A Retrospective Analysis of Mortality RegistersA Molecular Host Response Assay to Discriminate Between Sepsis and Infection-Negative Systemic Inflammation in Critically Ill Patients: Discovery and Validation in Independent CohortsAcute Cardiovascular Events after Herpes Zoster: A Self-Controlled Case Series Analysis in Vaccinated and Unvaccinated Older Residents of the United StatesDiversity in Clinical and Biomedical Research: A Promise Yet to Be FulfilledRisks and Benefits of Nalmefene in the Treatment of Adult Alcohol Dependence: A Systematic Literature Review and Meta-Analysis of Published and Unpublished Double-Blind Randomized Controlled TrialsWorld Health Organization Estimates of the Global and Regional Disease Burden of 11 Foodborne Parasitic Diseases, 2010: A Data SynthesisAssociation between Regimen Composition and Treatment Response in Patients with Multidrug-Resistant Tuberculosis: A Prospective Cohort StudyIntra-arterial transplantation of HLA-matched donor mesoangioblasts in Duchenne muscular dystrophyAberrant epigenome in iPSC-derived dopaminergic neurons from Parkinson's disease patientsCholesterol-loaded nanoparticles ameliorate synaptic and cognitive function in Huntington's disease miceAccumulated common variants in the broader fragile X gene family modulate autistic phenotypesSimultaneous impairment of neuronal and metabolic function of mutated gephyrin in a patient with epileptic encephalopathyComparative Study of Liver Gene Transfer With AAV Vectors Based on Natural and Engineered AAV CapsidsReceptor Crosslinking: A General Method to Trigger Internalization and Lysosomal Targeting of Therapeutic Receptor:Ligand ComplexesGas5 Exerts Tumor-suppressive Functions in Human Glioma Cells by Targeting miR-222Inhibition of Aggregation of Mutant Huntingtin by Nucleic Acid Aptamers In Vitro and in a Yeast Model of Huntington's DiseaseContamination of Health Care Personnel During Removal of Personal Protective EquipmentEarly Trends Among Seven Recommendations From the Choosing Wisely Campaignβ-Blocker–Associated Risks in Patients With Uncomplicated Hypertension Undergoing Noncardiac SurgeryAssociation of Financial Integration Between Physicians and Hospitals With Commercial Health Care PricesRates of Deintensification of Blood Pressure and Glycemic Medication Treatment Based on Levels of Control and Life Expectancy in Older Patients With Diabetes MellitusBrugada Syndrome Presenting as Polymorphic Ventricular Tachycardia–Ventricular Fibrillation Lasting 94 Seconds Recorded on an Ambulatory MonitorUpdate on Medical Practices That Should Be Questioned in 2015Impaired incretin effect is an early sign of glucose dysmetabolism in nondiabetic patients with psoriasisSofosbuvir Plus Velpatasvir Combination Therapy for Treatment-Experienced Patients With Genotype 1 or 3 Hepatitis C Virus InfectionSofosbuvir With Velpatasvir in Treatment-Naive Noncirrhotic Patients With Genotype 1 to 6 Hepatitis C Virus InfectionNormal-Weight Central Obesity: Implications for Total and Cardiovascular MortalityEffect of Metformin Added to Insulin on Glycemic Control Among Overweight/Obese Adolescents With Type 1 Diabetes: A Randomized Clinical Trial.Effect of Vericiguat, a Soluble Guanylate Cyclase Stimulator, on Natriuretic Peptide Levels in Patients With Worsening Chronic Heart Failure and Reduced Ejection FractionRelationship Between Cesarean Delivery Rate and Maternal and Neonatal MortalityPlanned Cesarean Delivery at Term and Adverse Outcomes in Childhood HealthSkeletal muscle mass is associated with severe dysphagia in cancer patientsActivin-β\n",
            "                    C\n",
            "                    modulates cachexia by repressing the ubiquitin-proteasome and autophagic degradation pathwaysMicroRNA-33–dependent regulation of macrophage metabolism directs immune cell polarization in atherosclerosisSDF1 induction by acidosis from principal cells regulates intercalated cell subtype distributionPhosphorylation-mediated EZH2 inactivation promotes drug resistance in multiple myelomaMyo9b is a key player in SLIT/ROBO-mediated lung tumor suppressionEbola viral load at diagnosis associates with patient outcome and outbreak evolutionInflammation drives thrombosis after Salmonella infection via CLEC-2 on plateletsMitochondrial metabolism mediates oxidative stress and inflammation in fatty liverMesodermal iPSC–derived progenitor cells functionally regenerate cardiac and skeletal muscleA collagen VI–dependent pathogenic mechanism for Hirschsprung’s diseaseInterleukin-21 combined with ART reduces inflammation and viral reservoir in SIV-infected macaquesEndothelial-to-mesenchymal transition drives atherosclerosis progressionPRMT1-mediated methylation of the EGF receptor regulates signaling and cetuximab responseSaturated phosphatidic acids mediate saturated fatty acid–induced vascular calcification and lipotoxicityPharmacoproteomics identifies combinatorial therapy targets for diffuse large B cell lymphomaDLL4 promotes continuous adult intestinal lacteal regeneration and dietary fat transportEvidence against hypothalamic-pituitary-adrenal axis suppression in the antidiabetic action of leptinFasting and refeeding differentially regulate NLRP3 inflammasome activation in human subjectsFGF21 and the late adaptive response to starvation in humansDevelopment of autoantibodies against muscle-specific FHL1 in severe inflammatory myopathiesHistone demethylase JARID1C inactivation triggers genomic instability in sporadic renal cancerPlatelet-derived HMGB1 is a critical mediator of thrombosisRabbit antithymocyte globulin–induced serum sickness disease and human kidney graft survivalAging-associated inflammation promotes selection for adaptive oncogenic events in B cell progenitorsCoordinate expression of heme and globin is essential for effective erythropoiesisBlood kinetics of Ebola virus in survivors and nonsurvivorsHelminth-induced arginase-1 exacerbates lung inflammation and disease severity in tuberculosisGLP-1 stimulates insulin secretion by PKC-dependent TRPM4 and TRPM5 activationCan aging be 'drugged'?Proteostasis and agingTreatment during a vulnerable developmental period rescues a genetic epilepsyAn AKT3-FOXG1-reelin network underlies defective migration in human focal malformations of cortical developmentDystrophin expression in muscle stem cells regulates their polarity and asymmetric divisionThe TAM receptor Mertk protects against neuroinvasive viral infection by maintaining blood-brain barrier integrityTargeting megakaryocytic-induced fibrosis in myeloproliferative neoplasms by AURKA inhibitionSynthetic lethal targeting of oncogenic transcription factors in acute leukemia by PARP inhibitorsSWI/SNF-mutant cancers depend on catalytic and non-catalytic activity of EZH2Microbiota depletion promotes browning of white adipose tissue and reduces obesityMARCH8 inhibits HIV-1 infection by reducing virion incorporation of envelope glycoproteinsA SARS-like cluster of circulating bat coronaviruses shows potential for human emergenceEvolution of metastasis revealed by mutational landscapes of chemically induced skin cancersScreening for Abnormal Blood Glucose and Type 2 Diabetes Mellitus: U.S. Preventive Services Task Force Recommendation StatementLong Noncoding RNA CUDR Regulates HULC and β-Catenin to Govern Human Liver Stem Cell Malignant DifferentiationPeripheral brain-derived neurotrophic factor (BDNF) as a biomarker in bipolar disorder: a meta-analysis of 52 studiesWill Ebola change the game? Ten essential reforms before the next pandemic. The report of the Harvard-LSHTM Independent Panel on the Global Response to EbolaWho and when should we screen for prostate cancer? Interviews with key opinion leadersA Randomized Trial of Intensive versus Standard Blood-Pressure ControlEmpagliflozin, Cardiovascular Outcomes, and Mortality in Type 2 DiabetesHome Use of an Artificial Beta Cell in Type 1 DiabetesA Randomized Trial of Progesterone in Women with Recurrent Miscarriages.Case 37-2015.The 2014 Ebola virus disease outbreak in Pujehun, Sierra Leone: epidemiology and impact of interventionsUnmet needs: Research helps regulators do their jobsType 1 diabetes immunotherapy using polyclonal regulatory T cellsTranscriptome analysis of GVHD reveals aurora kinase A as a targetable pathway for disease preventionNeutrophil-derived microvesicles enter cartilage and protect the joint in inflammatory arthritisTrastuzumab emtansine (T-DM1) renders HER2 + breast cancer highly susceptible to CTLA-4/PD-1 blockadeNaive Bayes classifiers for verbal autopsies: comparison to physician-based classification for 21,000 child and adult deathsHow to estimate the health benefits of additional research and changing clinical practiceMethylphenidate for attention-deficit/hyperactivity disorder in children and adolescents: Cochrane systematic review with meta-analyses and trial sequential analyses of randomised clinical trialsLong term trends in prevalence of neural tube defects in Europe: population based studyAssociation between day of delivery and obstetric outcomes: observational studyPanretinal Photocoagulation vs Intravitreous Ranibizumab for Proliferative Diabetic RetinopathyEffect of Clopidogrel and Aspirin vs Aspirin Alone on Migraine Headaches After Transcatheter Atrial Septal Defect Closure: The CANOA Randomized Clinical TrialEffect of Intravascular Ultrasound-Guided vs Angiography-Guided Everolimus-Eluting Stent Implantation: The IVUS-XPL Randomized Clinical Trial.Prevalence of Body Mass Index Lower Than 16 Among Women in Low- and Middle-Income CountriesStepped care for depression and anxiety in visually impaired older adults: multicentre randomised controlled trialSpironolactone versus placebo, bisoprolol, and doxazosin to determine the optimal treatment for drug-resistant hypertension (PATHWAY-2): a randomised, double-blind, crossover trialSkin antisepsis with chlorhexidine–alcohol versus povidone iodine–alcohol, with and without skin scrubbing, for prevention of intravascular-catheter-related infection (CLEAN): an open-label, multicentre, randomised, controlled, two-by-two factorial trialSafety, efficacy, and immunogenicity of VGX-3100, a therapeutic synthetic DNA vaccine targeting human papillomavirus 16 and 18 E6 and E7 proteins for cervical intraepithelial neoplasia 2/3: a randomised, double-blind, placebo-controlled phase 2b trialScreening for fetal growth restriction with universal third trimester ultrasonography in nulliparous women in the Pregnancy Outcome Prediction (POP) study: a prospective cohort studyImplementation of the Lancet Standing Commission on Liver Disease in the UKNosocomial transmission of avian influenza A (H7N9) virus in China: epidemiological investigationCurrent tobacco use is associated with higher rates of implant revision and deep infection after total hip or knee arthroplasty: a prospective cohort studyProspective Validation of a 21-Gene Expression Assay in Breast Cancer.Possible Subclinical Leaflet Thrombosis in Bioprosthetic Aortic Valves.Genetic Diversity and Protective Efficacy of the RTS,S/AS01 Malaria Vaccine.Polymer-free Drug-Coated Coronary Stents in Patients at High Bleeding Risk.Activity of Oral ALS-008176 in a Respiratory Syncytial Virus Challenge StudyGeneralized Anxiety Disorder.Case 36-2015.The E3 ubiquitin ligase Idol controls brain LDL receptor expression, ApoE clearance, and Aβ amyloidosisAZD9150, a next-generation antisense oligonucleotide inhibitor of STAT3 with early evidence of clinical activity in lymphoma and lung cancerTargeting LGR5 + cells with an antibody-drug conjugate for the treatment of colon cancerBioengineered vocal fold mucosa for voice restorationPredicting therapeutic nanomedicine efficacy using a companion magnetic resonance imaging nanoparticleThe Burden of Health Care Costs for Patients With Dementia in the Last 5 Years of LifeEffectiveness of an Early Versus a Conservative Invasive Treatment Strategy in Acute Coronary SyndromesLong-Term Prognosis of Early Repolarization With J-Wave and QRS Slur Patterns on the Resting ElectrocardiogramScreening for High Blood Pressure in Adults: U.S. Preventive Services Task Force Recommendation StatementAntenatal blood pressure for prediction of pre-eclampsia, preterm birth, and small for gestational age babies: development and validation in two general population cohortsEarly Administration of Azithromycin and Prevention of Severe Lower Respiratory Tract Illnesses in Preschool Children With a History of Such IllnessesAppropriate Use Criteria for Coronary Revascularization and Trends in Utilization, Patient Selection, and Appropriateness of Percutaneous Coronary InterventionProstate Cancer Incidence and PSA Testing Patterns in Relation to USPSTF Screening RecommendationsComparative Risk of Anaphylactic Reactions Associated With Intravenous Iron ProductsIdentification of a novel cis-regulatory element essential for immune toleranceQualitative changes in human γ-secretase underlie familial Alzheimer’s diseaseTerminal NK cell maturation is controlled by concerted actions of T-bet and Zeb2 and is essential for melanoma rejectionTranscriptional repressor ZEB2 promotes terminal differentiation of CD8\n",
            "                    +\n",
            "                    effector and memory T cell populations during infectionThe transcription factors ZEB2 and T-bet cooperate to program cytotoxic T cell terminal differentiation in response to LCMV viral infectionElp3 drives Wnt-dependent tumor initiation and regeneration in the intestineTLR9 ligation in pancreatic stellate cells promotes tumorigenesisCish actively silences TCR signaling in CD8\n",
            "                    +\n",
            "                    T cells to maintain tumor toleranceOct1 and OCA-B are selectively required for CD4 memory T cell functionCLEC-2 in megakaryocytes is critical for maintenance of hematopoietic stem cells in the bone marrowEndothelial NOTCH1 is suppressed by circulating lipids and antagonizes inflammation during atherosclerosisDNAM-1 controls NK cell activation via an ITT-like motifMaternal vaccination against H1N1 influenza and offspring mortality: population based cohort study and sibling designStroke and recurrent haemorrhage associated with antithrombotic treatment after gastrointestinal bleeding in patients with atrial fibrillation: nationwide cohort studyAlcohol consumption and cardiovascular disease, cancer, injury, admission to hospital, and mortality: a prospective cohort studyEfficacy and safety of cyclic pyranopterin monophosphate substitution in severe molybdenum cofactor deficiency type A: a prospective cohort studyEffects of decreases of animal pollinators on human nutrition and global health: a modelling analysisEverolimus-Eluting Bioresorbable Scaffolds for Coronary Artery Disease.Soluble Urokinase Receptor and Chronic Kidney DiseaseThe Genetic Evolution of Melanoma from Precursor Lesions.Effect of PCI on Long-Term Survival in Patients with Stable Ischemic Heart DiseaseCase Records of the Massachusetts General Hospital. Case 35-2015: A 72-Year-Old Woman with Proteinuria and a Kidney Mass.Risk of postoperative acute kidney injury in patients undergoing orthopaedic surgery--development and validation of a risk score and effect of acute kidney injury on survival: observational cohort studyComputerised cognitive behaviour therapy (cCBT) as treatment for depression in primary care (REEACT trial): large scale pragmatic randomised controlled trialDevelopment and validation of risk prediction equations to estimate future risk of blindness and lower limb amputation in patients with diabetes: cohort studyA validated gene regulatory network and GWAS identifies early regulators of T cell-associated diseases.Virtual typing by people with tetraplegia using a self-calibrating intracortical brain-computer interfaceAAV gene transfer delays disease onset in a TPP1-deficient canine model of the late infantile form of Batten diseaseModeling pulmonary alveolar microlithiasis by epithelial deletion of the Npt2b sodium phosphate cotransporter reveals putative biomarkers and strategies for treatmentAnalysis of ESR1 mutation in circulating tumor DNA demonstrates evolution during therapy for metastatic breast cancerRenal medullary (pro)renin receptor contributes to angiotensin II-induced hypertension in rats via activation of the local renin–angiotensin systemEffect of Financial Incentives to Physicians, Patients, or Both on Lipid LevelsEndovascular Revascularization and Supervised Exercise for Peripheral Artery Disease and Intermittent Claudication: A Randomized Clinical TrialPrevalence and Correlates of Myocardial Scar in a US CohortLevels of circulating endothelial cells are low in idiopathic pulmonary fibrosis and are further reduced by anti-fibrotic treatmentsDiagnostic yield and accuracy of CT angiography, MR angiography, and digital subtraction angiography for detection of macrovascular causes of intracerebral haemorrhage: prospective, multicentre cohort studyEarly combined immunosuppression for the management of Crohn's disease (REACT): a cluster randomised controlled trialProphylactic antibiotics after acute stroke for reducing pneumonia in patients with dysphagia (STROKE-INF): a prospective, cluster-randomised, open-label, masked endpoint, controlled clinical trialEpilepsy in pregnancy and reproductive outcomes: a systematic review and meta-analysisFractional flow reserve versus angiography for guidance of PCI in patients with multivessel coronary artery disease (FAME): 5-year follow-up of a randomised controlled trialNivolumab versus Everolimus in Advanced Renal-Cell CarcinomaCabozantinib versus Everolimus in Advanced Renal-Cell CarcinomaPediatric Outcome after Maternal Cancer Diagnosed during PregnancyLenalidomide plus Rituximab as Initial Treatment for Mantle-Cell Lymphoma.Malignant Transformation of Hymenolepis nana in a Human HostTherapeutic targeting of the MYC signal by inhibition of histone chaperone FACT in neuroblastoma.A gene deletion that up-regulates viral gene expression yields an attenuated RSV vaccine with improved antibody responses in children.Plasma AR and abiraterone-resistant prostate cancerCastration radiosensitizes prostate cancer tissue by impairing DNA double-strand break repairSodium channel Nax is a regulator in epithelial sodium homeostasis.Physician spending and subsequent risk of malpractice claims: observational studyThree simple rules to ensure reasonably credible subgroup analysesAlexander Technique Lessons or Acupuncture Sessions for Persons With Chronic Neck PainEffects on Clinical Outcomes of Adding Dipeptidyl Peptidase-4 Inhibitors Versus Sulfonylureas to Metformin Therapy in Patients With Type 2 Diabetes MellitusIncident Hepatitis B Virus Infection in HIV-Infected and HIV-Uninfected Men Who Have Sex With Men From Pre-HAART to HAART PeriodsOutcomes of Basic Versus Advanced Life Support for Out-of-Hospital Medical EmergenciesCase 41-2015.Evaluation of Patients With Suspected Acute Pulmonary Embolism: Best Practice Advice From the Clinical Guidelines Committee of the American College of PhysiciansEfavirenz-Based Antiretroviral Therapy Among Nevirapine-Exposed HIV-Infected Children in South Africa: A Randomized Clinical TrialTrends in Prescription Drug Use Among Adults in the United States From 1999-2012Endovascular Thrombectomy for Acute Ischemic StrokeHospital-Diagnosed Pertussis Infection in Children and Long-term Risk of Epilepsy.Potential Mechanisms for Cancer Resistance in Elephants and Comparative Cellular Response to DNA Damage in HumansExamining variations in prescribing safety in UK general practice: cross sectional study using the Clinical Practice Research DatalinkA guide to performing a peer review of randomised controlled trialsNeurophysiological differences between patients clinically at high risk for schizophrenia and neurotypical controls – first steps in development of a biomarkerLong-term Improvements in Lifespan and Pathology in CNS and PNS After BMT Plus One Intravenous Injection of AAVrh10-GALC in Twitcher MiceIntracisternal Gtf2i Gene Therapy Ameliorates Deficits in Cognition and Synaptic Plasticity of a Mouse Model of Williams–Beuren SyndromePharmacological Modulation of Photoreceptor Outer Segment Degradation in a Human iPS Cell Model of Inherited Macular DegenerationAAV2/1 CD74 Gene Transfer Reduces β-amyloidosis and Improves Learning and Memory in a Mouse Model of Alzheimer's DiseaseA HER2-specific Modified Fc Fragment (Fcab) Induces Antitumor Effects Through Degradation of HER2 and ApoptosisA Lentiviral Vector Allowing Physiologically Regulated Membrane-anchored and Secreted Antibody Expression Depending on B-cell Maturation StatusHuntingtin Haplotypes Provide Prioritized Target Panels for Allele-specific Silencing in Huntington Disease Patients of European AncestryDelivery of siRNA Using CXCR4-targeted Nanoparticles Modulates Tumor Microenvironment and Achieves a Potent Antitumor Response in Liver CancerSuppression of IL-7-dependent Effector T-cell Expansion by Multipotent Adult Progenitor Cells and PGE2Dispersion of the HIV-1 Epidemic in Men Who Have Sex with Men in the Netherlands: A Combined Mathematical Model and Phylogenetic AnalysisMass HIV Treatment and Sex Disparities in Life Expectancy: Demographic Surveillance in Rural South AfricaThe HIV Treatment Gap: Estimates of the Financial Resources Needed versus Available for Scale-Up of Antiretroviral Therapy in 97 Countries from 2015 to 2020Selection of an HLA-C*03:04-Restricted HIV-1 p24 Gag Sequence Variant Is Associated with Viral Escape from KIR2DL3+ Natural Killer Cells: Data from an Observational Cohort in South AfricaVenous Thrombosis Risk after Cast Immobilization of the Lower Extremity: Derivation and Validation of a Clinical Prediction Score, L-TRiP(cast), in Three Population-Based Case–Control StudiesThe PneuCarriage Project: A Multi-Centre Comparative Study to Identify the Best Serotyping Methods for Examining Pneumococcal Carriage in Vaccine Evaluation StudiesCare that Matters: Quality Measurement and Health CareMediterranean Diet and Invasive Breast Cancer Risk Among Women at High Cardiovascular Risk in the PREDIMED TrialShared Decision Making for Antidepressants in Primary CareCognitive Behavior Therapy for Depression and Self-Care in Heart Failure PatientsAssociation of Reference Payment for Colonoscopy With Consumer Choices, Insurer Spending, and Procedural ComplicationsOverdiagnosis ofClostridium difficileInfection in the Molecular Test EraPatient Characteristics and Differences in Hospital Readmission RatesChanges in Low-Value Services in Year 1 of the Medicare Pioneer Accountable Care Organization ProgramDiagnostic Accuracy of Digital Screening Mammography With and Without Computer-Aided DetectionRisk of Aortic Dissection and Aortic Aneurysm in Patients Taking Oral FluoroquinoloneExcess TGF-β mediates muscle weakness associated with bone metastases in miceHair follicle–derived IL-7 and IL-15 mediate skin-resident memory T cell homeostasis and lymphomaMicroRNA-148a regulates LDL receptor and ABCA1 expression to control circulating lipoprotein levelsGenome-wide identification of microRNAs regulating cholesterol and triglyceride homeostasisCardiac RKIP induces a beneficial β-adrenoceptor–dependent positive inotropyHigh-throughput screening using patient-derived tumor xenografts to predict clinical trial drug responseInhibition of mechanical allodynia in neuropathic pain by TLR5-mediated A-fiber blockadeViral variants that initiate and drive maturation of V1V2-directed HIV-1 broadly neutralizing antibodiesSelective inhibition of the p38 alternative activation pathway in infiltrating T cells inhibits pancreatic cancer progressionLoss of BAP1 function leads to EZH2-dependent transformationThe consensus molecular subtypes of colorectal cancerCAUSEL: an epigenome- and genome-editing pipeline for establishing function of noncoding GWAS variantsDuctal pancreatic cancer modeling and drug screening using human pluripotent stem cell– and patient-derived tumor organoidsDefective autophagy is a key feature of cerebral cavernous malformationsVEGF‐C is required for intestinal lymphatic vessel maintenance and lipid absorptionThe Hippo/YAP pathway interacts with EGFR signaling and HPV oncoproteins to regulate cervical cancer progressionAndrogen receptor profiling predicts prostate cancer outcomeCharacterization and quantification of proteins secreted by single human embryos prior to implantationThe MICA‐129 dimorphism affects NKG2D signaling and outcome of hematopoietic stem cell transplantationIL-21R signaling is critical for induction of spontaneous experimental autoimmune encephalomyelitisExcess placental secreted frizzled-related protein 1 in maternal smokers impairs fetal growthDynamin 2 regulates biphasic insulin secretion and plasma glucose homeostasisIntravital imaging of intestinal lacteals unveils lipid drainage through contractilityTIGIT predominantly regulates the immune response via regulatory T cellsLKB1 loss promotes endometrial cancer progression via CCL2-dependent macrophage recruitmentDual-Affinity Re-Targeting proteins direct T cell–mediated cytolysis of latently HIV-infected cellsMicroRNA-30 family members regulate calcium/calcineurin signaling in podocytesProteinase 3 on apoptotic cells disrupts immune silencing in autoimmune vasculitisCardiomyocyte-enriched protein CIP protects against pathophysiological stresses and regulates cardiac homeostasisBroad-spectrum antibodies against self-antigens and cytokines in RAG deficiencyMicroRNA-223 is a crucial mediator of PPARγ-regulated alternative macrophage activationSialylation of IgG Fc domain impairs complement-dependent cytotoxicityMucosal-associated invariant T cell–rich congenic mouse strain allows functional evaluationReengineering a transmembrane protein to treat muscular dystrophy using exon skippingAdditive loss-of-function proteasome subunit mutations in CANDLE/PRAAS patients promote type I IFN productionSodium chloride inhibits the suppressive function of FOXP3+ regulatory T cellsHigh salt reduces the activation of IL-4– and IL-13–stimulated macrophagesSTK4 regulates TLR pathways and protects against chronic inflammation–related hepatocellular carcinomaTherapeutic lymphangiogenesis ameliorates established acute lung allograft rejectionHistone deacetylase 6 inhibition enhances oncolytic viral replication in gliomaInhibition of cyclooxygenase-2 in hematopoietic cells results in salt-sensitive hypertensionA mutation in the nucleoporin-107 gene causes XX gonadal dysgenesisDissociation of locomotor and cerebellar deficits in a murine Angelman syndrome modelNo association between adherence to the healthy Nordic food index and cardiovascular disease amongst Swedish women: a cohort studyPAR1 signaling regulates the retention and recruitment of EPCR-expressing bone marrow hematopoietic stem cellsLong working hours and risk of coronary heart disease and stroke: a systematic review and meta-analysis of published and unpublished data for 603 838 individualsPostural modification to the standard Valsalva manoeuvre for emergency treatment of supraventricular tachycardias (REVERT): a randomised controlled trialTasimelteon for non-24-hour sleep–wake disorder in totally blind people (SET and RESET): two multicentre, randomised, double-masked, placebo-controlled phase 3 trialsControversies in faith and health careStrengthening of partnerships between the public sector and faith-based groupsReproductive factors and risk of mortality in the European Prospective Investigation into Cancer and Nutrition; a cohort studyRandomized controlled trial of the effects of high intensity and low-to-moderate intensity exercise on physical fitness and fatigue in cancer survivors: results of the Resistance and Endurance exercise After ChemoTherapy (REACT) studyDNA-Repair Defects and Olaparib in Metastatic Prostate CancerPaclitaxel-Eluting versus Everolimus-Eluting Coronary Stents in DiabetesExcess Mortality among Persons with Type 2 Diabetes.Targeting Mutant BRAF in Relapsed or Refractory Hairy-Cell Leukemia.The Future of Public HealthCLINICAL PRACTICE. Cryopreservation of Oocytes.CASE RECORDS of the MASSACHUSETTS GENERAL HOSPITAL. Case 34-2015. A 36-Year-Old Woman with a Lung Mass, Pleural Effusion, and Hip Pain.Cell-selective arrhythmia ablation for photomodulation of heart rhythmInflammation activation and resolution in human tendon disease.Identification of type 2 diabetes subgroups through topological analysis of patient similarityIL-2Rα mediates temporal regulation of IL-2 signaling and enhances immunotherapyMortality factor 4 like 1 protein mediates epithelial cell death in a mouse model of pneumonia.STARD 2015: an updated list of essential items for reporting diagnostic accuracy studiesLiraglutide in people treated for type 2 diabetes with multiple daily insulin injections: randomised clinical trial (MDI Liraglutide trial)Effect of a Buffered Crystalloid Solution vs Saline on Acute Kidney Injury Among Patients in the Intensive Care UnitEffect of Noninvasive Ventilation vs Oxygen Therapy on Mortality Among Immunocompromised Patients With Acute Respiratory FailureAnticholinergic vs Long-Acting β-Agonist in Combination With Inhaled Corticosteroids in Black Adults With Asthma: The BELT Randomized Clinical TrialTemporal Trends in Mortality in the United States, 1969-2013The risk of fall and fracture with the initiation of a prostate-selective α antagonist: a population based cohort studyAn internet-delivered handwashing intervention to modify influenza-like illness and respiratory infection transmission (PRIMIT): a primary care randomised trialPercutaneous tibial nerve stimulation versus sham electrical stimulation for the treatment of faecal incontinence in adults (CONFIDeNT): a double-blind, multicentre, pragmatic, parallel-group, randomised controlled trialEltrombopag for children with chronic immune thrombocytopenia (PETIT2): a randomised, multicentre, placebo-controlled trialFrontotemporal dementiaLewy body dementiasVascular dementiaCASE RECORDS of the MASSACHUSETTS GENERAL HOSPITAL. Case 33-2015. A 57-Year-Old Woman with Hair Loss and Deepening Voice.A Randomized, Controlled Trial of Total Knee ReplacementChanging Trends in P. falciparum Burden, Immunity, and Disease in Pregnancy.A Phase 3 Randomized Trial of Nicotinamide for Skin-Cancer ChemopreventionNivolumab versus Docetaxel in Advanced Nonsquamous Non–Small-Cell Lung CancerProinflammatory GM-CSF–producing B cells in multiple sclerosis and B cell depletion therapyIdentification of broadly conserved cross-species protective Leishmania antigen and its responding CD4+ T cellsImpact of guidance documents on translational large animal studies of cartilage repairUltrasound-mediated gastrointestinal drug deliveryPET imaging of tumor glycolysis downstream of hexokinase through noninvasive measurement of pyruvate kinase M2Secondhand smoke and incidence of dental caries in deciduous teeth among children in Japan: population based retrospective cohort studyEffects of Initiating Moderate Alcohol Intake on Cardiometabolic Risk in Adults With Type 2 DiabetesMedicare Chronic Care Management Payments and Financial Returns to Primary Care PracticesInefficiencies and High-Value Improvements in U.S. Cervical Cancer Screening PracticeBehavioral and Pharmacotherapy Interventions for Tobacco Smoking Cessation in Adults, Including Pregnant Women: U.S. Preventive Services Task Force Recommendation StatementRisk of cancer from occupational exposure to ionising radiation: retrospective cohort study of workers in France, the United Kingdom, and the United States (INWORKS)Naproxen With Cyclobenzaprine, Oxycodone/Acetaminophen, or Placebo for Treating Acute Low Back PainAssociation of Tdap Vaccination With Acute Events and Adverse Birth Outcomes Among Pregnant Women With Prior Tetanus-Containing ImmunizationsAssociation Between Preeclampsia and Congenital Heart DefectsAutism-like syndrome is induced by pharmacological suppression of BET proteins in young miceType 3 innate lymphoid cells maintain intestinal epithelial stem cells after tissue damageInterleukin-27 inhibits ectopic lymphoid-like structure development in early inflammatory arthritisReplacement of brain-resident myeloid cells does not alter cerebral amyloid-β deposition in mouse models of Alzheimer’s diseaseImpact of peripheral myeloid cells on amyloid-β pathology in Alzheimer’s disease–like miceDose-dependent role of the cohesin complex in normal and malignant hematopoiesisCohesin loss alters adult hematopoietic stem cell homeostasis, leading to myeloproliferative neoplasmsCritical role of phospholipase A\n",
            "                    2\n",
            "                    group IID in age-related susceptibility to severe acute respiratory syndrome–CoV infectionTRPC6 is the endothelial calcium channel that regulates leukocyte transendothelial migration during the inflammatory responseThe role of group IIF-secreted phospholipase A\n",
            "                    2\n",
            "                    in epidermal homeostasis and hyperplasiaResolvin E1 inhibits dendritic cell migration in the skin and attenuates contact hypersensitivity responsesOxysterols and EBI2 promote osteoclast precursor migration to bone surfaces and regulate bone mass homeostasisCCR4 promotes medullary entry and thymocyte–dendritic cell interactions required for central toleranceLoss of\n",
            "                    Tifab\n",
            "                    , a del(5q) MDS gene, alters hematopoiesis through derepression of Toll-like receptor–TRAF6 signalingImpact of proton pump inhibitor treatment on gastrointestinal bleeding associated with non-steroidal anti-inflammatory drug use among post-myocardial infarction patients taking antithrombotics: nationwide studyRole of healthcare workers in early epidemic spread of Ebola: policy implications of prophylactic compared to reactive vaccination policy in outbreak prevention and controlGrazoprevir plus elbasvir in treatment-naive and treatment-experienced patients with hepatitis C virus genotype 1 infection and stage 4–5 chronic kidney disease (the C-SURFER study): a combination phase 3 studyEstimations of worldwide prevalence of chronic hepatitis B virus infection: a systematic review of data published between 1965 and 2013First clinical use of a bioprosthetic total artificial heart: report of two casesPrimary biliary cirrhosisAcute-on-chronic liver failureUsing pay for performance incentives (P4P) to improve management of suspected malaria fevers in rural Kenya: a cluster randomized controlled trialGenomic aberrations in young and elderly  breast cancer patientsEarly Inhaled Budesonide for the Prevention of Bronchopulmonary DysplasiaNeonatal Glycemia and Neurodevelopmental Outcomes at 2 Years.A Trial of Calcium and Vitamin D for the Prevention of Colorectal AdenomasEmergency Department Visits for Adverse Events Related to Dietary SupplementsCASE RECORDS of the MASSACHUSETTS GENERAL HOSPITAL. Case 32-2015. A 57-Year-Old Man with Severe Pneumonia and Hypoxemic Respiratory Failure.Glutamate imaging (GluCEST) lateralizes epileptic foci in nonlesional temporal lobe epilepsyLoss of GPR3 reduces the amyloid plaque burden and improves memory in Alzheimer’s disease mouse modelsDetection of human brain tumor infiltration with quantitative stimulated Raman scattering microscopyPrefusion F–specific antibodies determine the magnitude of RSV neutralizing activity in human seraThe peptidomimetic Vasotide targets two retinal VEGF receptors and reduces pathological angiogenesis in murine and nonhuman primate models of retinal diseaseEarly Physical Therapy vs Usual Care in Patients With Recent-Onset Low Back Pain: A Randomized Clinical TrialNonmedical Prescription Opioid Use and Use Disorders Among Adults Aged 18 Through 64 Years in the United States, 2003-2013Epidemiology of Carbapenem-Resistant Enterobacteriaceae in 7 US Communities, 2012-2013Association Between Hospitalization With Community-Acquired Laboratory-Confirmed Influenza Pneumonia and Prior Receipt of Influenza VaccinationColorectal cancer screening: the time to act is nowSafety and efficacy of hysteroscopic sterilization compared with laparoscopic sterilization: an observational cohort studyUse of the English urgent referral pathway for suspected cancer and mortality in patients with cancer: cohort studyExtending the elderly- and risk-group programme of vaccination against seasonal influenza in England and Wales: a cost-effectiveness studyHow should we manage information needs, family anxiety, depression, and breathlessness for those affected by advanced disease: development of a Clinical Decision Support Tool using a Delphi designDoes reduced smoking if you can’t stop make any difference?Contrasting male and female trends in tobacco-attributed mortality in China: evidence from successive nationwide prospective cohort studiesEfficacy, safety, and immunogenicity of an oral recombinant Helicobacter pylori vaccine in children in China: a randomised, double-blind, placebo-controlled, phase 3 trialAcute kidney injury in China: a cross-sectional surveyAntisense therapy targeting apolipoprotein(a): a randomised, double-blind, placebo-controlled phase 1 studyIs dying in hospital better than home in incurable cancer and what factors influence this? A population-based studyCASE RECORDS of the MASSACHUSETTS GENERAL HOSPITAL. Case 31-2015. A 29-Year-Old Man with Thymoma, Diarrhea, and Weight Loss.RNY-derived small RNAs as a signature of coronary artery diseaseA Multicenter Trial of Remote Ischemic Preconditioning for Heart SurgeryRemote Ischemic Preconditioning and Outcomes of Cardiac Surgery.Daclizumab HYP versus Interferon Beta-1a in Relapsing Multiple SclerosisPregnancy, Primary Aldosteronism, and Adrenal CTNNB1 Mutations.Insomnia DisorderRepeat HIV-testing is associated with an increase in behavioral risk among men who have sex with men: a cohort studyNeuronal PAC1 receptors mediate delayed activation and sensitization of trigeminocervical neurons: Relevance to migraineTCR sequencing facilitates diagnosis and identifies mature T cells as the cell of origin in CTCL\n"
          ],
          "name": "stdout"
        }
      ]
    },
    {
      "cell_type": "code",
      "metadata": {
        "id": "moSK8Iw1jvOW",
        "colab_type": "code",
        "outputId": "2c5e6243-4664-4dd1-d210-079914ecd784",
        "colab": {
          "base_uri": "https://localhost:8080/",
          "height": 33
        }
      },
      "source": [
        "#Tokenization \n",
        "tokenize_words=nltk.word_tokenize(title_corpus)\n",
        "print(len(tokenize_words))"
      ],
      "execution_count": 13,
      "outputs": [
        {
          "output_type": "stream",
          "text": [
            "6428\n"
          ],
          "name": "stdout"
        }
      ]
    },
    {
      "cell_type": "code",
      "metadata": {
        "id": "stNVo3-3ltcD",
        "colab_type": "code",
        "colab": {}
      },
      "source": [
        "#Convert all characters to lowercase form list of tokenized words\n",
        "def to_lowercase(words):\n",
        "  new_words=[]\n",
        "  for word in words:\n",
        "    new_word=word.lower()\n",
        "    new_words.append(new_word)\n",
        "  return new_words"
      ],
      "execution_count": 0,
      "outputs": []
    },
    {
      "cell_type": "code",
      "metadata": {
        "id": "z6HMUK_aw2Ow",
        "colab_type": "code",
        "outputId": "75327f99-1586-44c3-ed19-bdafdd32ad33",
        "colab": {
          "base_uri": "https://localhost:8080/",
          "height": 33
        }
      },
      "source": [
        "lower_words=to_lowercase(tokenize_words)\n",
        "print(lower_words[:10])"
      ],
      "execution_count": 15,
      "outputs": [
        {
          "output_type": "stream",
          "text": [
            "['sofosbuvir', 'and', 'velpatasvir', 'for', 'hcv', 'genotype', '1', ',', '2', ',']\n"
          ],
          "name": "stdout"
        }
      ]
    },
    {
      "cell_type": "code",
      "metadata": {
        "id": "2iqGSgMgtFH7",
        "colab_type": "code",
        "colab": {}
      },
      "source": [
        "#Remove punctuation from list of tokenized words\n",
        "def remove_punctuation(words):\n",
        "  new_words=[]\n",
        "  for word in words:\n",
        "    new_word=re.sub(r'[^\\w\\s]','',word)\n",
        "    if new_word != '':\n",
        "      new_words.append(new_word)\n",
        "  return new_words"
      ],
      "execution_count": 0,
      "outputs": []
    },
    {
      "cell_type": "code",
      "metadata": {
        "id": "WNplm8OexEhF",
        "colab_type": "code",
        "outputId": "ccbd42ae-6d2a-45c9-e748-5a044321350f",
        "colab": {
          "base_uri": "https://localhost:8080/",
          "height": 70
        }
      },
      "source": [
        "nopunctuation_words=remove_punctuation(lower_words)\n",
        "print(len(nopunctuation_words))\n",
        "print(nopunctuation_words[:114])"
      ],
      "execution_count": 17,
      "outputs": [
        {
          "output_type": "stream",
          "text": [
            "6070\n",
            "['sofosbuvir', 'and', 'velpatasvir', 'for', 'hcv', 'genotype', '1', '2', '4', '5', 'and', '6', 'infectionsofosbuvir', 'and', 'velpatasvir', 'for', 'hcv', 'genotype', '2', 'and', '3', 'infectionsofosbuvir', 'and', 'velpatasvir', 'for', 'hcv', 'in', 'patients', 'with', 'decompensated', 'cirrhosisa', 'trial', 'of', 'wound', 'irrigation', 'in', 'the', 'initial', 'management', 'of', 'open', 'fracture', 'woundsplanned', 'outofhospital', 'birth', 'and', 'birth', 'outcomesa', 'nested', 'cohort', 'study', 'of', '6248', 'early', 'breast', 'cancer', 'patients', 'treated', 'in', 'neoadjuvant', 'and', 'adjuvant', 'chemotherapy', 'trials', 'investigating', 'the', 'prognostic', 'value', 'of', 'chemotherapyrelated', 'toxicitiesovarian', 'suppression', 'with', 'triptorelin', 'during', 'adjuvant', 'breast', 'cancer', 'chemotherapy', 'and', 'longterm', 'ovarian', 'function', 'pregnancies', 'and', 'diseasefree', 'survival', 'a', 'randomized', 'clinical', 'trialeffect', 'of', 'opioids', 'vs', 'nsaids', 'and', 'larger', 'vs', 'smaller', 'chest', 'tube', 'size', 'on', 'pain', 'control', 'and', 'pleurodesis', 'efficacy', 'among', 'patients', 'with', 'malignant', 'pleural', 'effusionlivebirth']\n"
          ],
          "name": "stdout"
        }
      ]
    },
    {
      "cell_type": "markdown",
      "metadata": {
        "id": "g_pT0ubd12YK",
        "colab_type": "text"
      },
      "source": [
        "Create New DataFrame With N-gram Keywords"
      ]
    },
    {
      "cell_type": "code",
      "metadata": {
        "id": "9jTSjfFq0s6K",
        "colab_type": "code",
        "outputId": "f12fa3f1-7c5c-478e-c64e-9674b5a9932a",
        "colab": {
          "base_uri": "https://localhost:8080/",
          "height": 47
        }
      },
      "source": [
        "new_array=[]\n",
        "uni_keywords_df=pd.DataFrame(new_array,columns=['unigram','label'])\n",
        "uni_keywords_df"
      ],
      "execution_count": 18,
      "outputs": [
        {
          "output_type": "execute_result",
          "data": {
            "text/html": [
              "<div>\n",
              "<style scoped>\n",
              "    .dataframe tbody tr th:only-of-type {\n",
              "        vertical-align: middle;\n",
              "    }\n",
              "\n",
              "    .dataframe tbody tr th {\n",
              "        vertical-align: top;\n",
              "    }\n",
              "\n",
              "    .dataframe thead th {\n",
              "        text-align: right;\n",
              "    }\n",
              "</style>\n",
              "<table border=\"1\" class=\"dataframe\">\n",
              "  <thead>\n",
              "    <tr style=\"text-align: right;\">\n",
              "      <th></th>\n",
              "      <th>unigram</th>\n",
              "      <th>label</th>\n",
              "    </tr>\n",
              "  </thead>\n",
              "  <tbody>\n",
              "  </tbody>\n",
              "</table>\n",
              "</div>"
            ],
            "text/plain": [
              "Empty DataFrame\n",
              "Columns: [unigram, label]\n",
              "Index: []"
            ]
          },
          "metadata": {
            "tags": []
          },
          "execution_count": 18
        }
      ]
    },
    {
      "cell_type": "code",
      "metadata": {
        "id": "O115d0ub4MPp",
        "colab_type": "code",
        "colab": {}
      },
      "source": [
        "for word in nopunctuation_words:\n",
        "  if len(word)==1 or len(word)==2:\n",
        "    nopunctuation_words.remove(word)\n",
        "\n",
        "uni_keywords_df['unigram']=nopunctuation_words\n",
        "uni_keywords_df.loc[:,'label']=\"AT\""
      ],
      "execution_count": 0,
      "outputs": []
    },
    {
      "cell_type": "code",
      "metadata": {
        "id": "X7QnXQF79cip",
        "colab_type": "code",
        "outputId": "091c4a64-2ac5-46a4-9ae3-4d1568175779",
        "colab": {
          "base_uri": "https://localhost:8080/",
          "height": 196
        }
      },
      "source": [
        "uni_keywords_df.head()"
      ],
      "execution_count": 20,
      "outputs": [
        {
          "output_type": "execute_result",
          "data": {
            "text/html": [
              "<div>\n",
              "<style scoped>\n",
              "    .dataframe tbody tr th:only-of-type {\n",
              "        vertical-align: middle;\n",
              "    }\n",
              "\n",
              "    .dataframe tbody tr th {\n",
              "        vertical-align: top;\n",
              "    }\n",
              "\n",
              "    .dataframe thead th {\n",
              "        text-align: right;\n",
              "    }\n",
              "</style>\n",
              "<table border=\"1\" class=\"dataframe\">\n",
              "  <thead>\n",
              "    <tr style=\"text-align: right;\">\n",
              "      <th></th>\n",
              "      <th>unigram</th>\n",
              "      <th>label</th>\n",
              "    </tr>\n",
              "  </thead>\n",
              "  <tbody>\n",
              "    <tr>\n",
              "      <th>0</th>\n",
              "      <td>sofosbuvir</td>\n",
              "      <td>AT</td>\n",
              "    </tr>\n",
              "    <tr>\n",
              "      <th>1</th>\n",
              "      <td>and</td>\n",
              "      <td>AT</td>\n",
              "    </tr>\n",
              "    <tr>\n",
              "      <th>2</th>\n",
              "      <td>velpatasvir</td>\n",
              "      <td>AT</td>\n",
              "    </tr>\n",
              "    <tr>\n",
              "      <th>3</th>\n",
              "      <td>for</td>\n",
              "      <td>AT</td>\n",
              "    </tr>\n",
              "    <tr>\n",
              "      <th>4</th>\n",
              "      <td>hcv</td>\n",
              "      <td>AT</td>\n",
              "    </tr>\n",
              "  </tbody>\n",
              "</table>\n",
              "</div>"
            ],
            "text/plain": [
              "       unigram label\n",
              "0   sofosbuvir    AT\n",
              "1          and    AT\n",
              "2  velpatasvir    AT\n",
              "3          for    AT\n",
              "4          hcv    AT"
            ]
          },
          "metadata": {
            "tags": []
          },
          "execution_count": 20
        }
      ]
    },
    {
      "cell_type": "code",
      "metadata": {
        "id": "fmlxZiciSrLL",
        "colab_type": "code",
        "colab": {}
      },
      "source": [
        "uni_keywords_df.to_excel(\"unigram.xlsx\")"
      ],
      "execution_count": 0,
      "outputs": []
    },
    {
      "cell_type": "markdown",
      "metadata": {
        "id": "5KmW5PfqWsIo",
        "colab_type": "text"
      },
      "source": [
        "Data Preprocessing for Tweet Posts"
      ]
    },
    {
      "cell_type": "code",
      "metadata": {
        "id": "h7OUTpozqNNC",
        "colab_type": "code",
        "outputId": "8288a85c-33cc-40e1-91b0-a4f957f7fb4e",
        "colab": {
          "base_uri": "https://localhost:8080/",
          "height": 47
        }
      },
      "source": [
        "new_array=[]\n",
        "df_tweets=pd.DataFrame(new_array,columns=['tweets'])\n",
        "df_tweets"
      ],
      "execution_count": 22,
      "outputs": [
        {
          "output_type": "execute_result",
          "data": {
            "text/html": [
              "<div>\n",
              "<style scoped>\n",
              "    .dataframe tbody tr th:only-of-type {\n",
              "        vertical-align: middle;\n",
              "    }\n",
              "\n",
              "    .dataframe tbody tr th {\n",
              "        vertical-align: top;\n",
              "    }\n",
              "\n",
              "    .dataframe thead th {\n",
              "        text-align: right;\n",
              "    }\n",
              "</style>\n",
              "<table border=\"1\" class=\"dataframe\">\n",
              "  <thead>\n",
              "    <tr style=\"text-align: right;\">\n",
              "      <th></th>\n",
              "      <th>tweets</th>\n",
              "    </tr>\n",
              "  </thead>\n",
              "  <tbody>\n",
              "  </tbody>\n",
              "</table>\n",
              "</div>"
            ],
            "text/plain": [
              "Empty DataFrame\n",
              "Columns: [tweets]\n",
              "Index: []"
            ]
          },
          "metadata": {
            "tags": []
          },
          "execution_count": 22
        }
      ]
    },
    {
      "cell_type": "code",
      "metadata": {
        "id": "v80_YNhDq5Ez",
        "colab_type": "code",
        "outputId": "4dadd3c3-2fea-4fb1-f41f-2d328c47a281",
        "colab": {
          "base_uri": "https://localhost:8080/",
          "height": 33
        }
      },
      "source": [
        "data['tweet_post'][0]"
      ],
      "execution_count": 23,
      "outputs": [
        {
          "output_type": "execute_result",
          "data": {
            "text/plain": [
              "'Sofosbuvir and Velpatasvir for HCV Genotype 1, 2, 4, 5, and 6 Infection | NEJM https://t.co/ZyAsUx2Mp9'"
            ]
          },
          "metadata": {
            "tags": []
          },
          "execution_count": 23
        }
      ]
    },
    {
      "cell_type": "code",
      "metadata": {
        "id": "peaVZGMZWm9r",
        "colab_type": "code",
        "colab": {}
      },
      "source": [
        "df_tweets['tweets']=data['tweet_post']"
      ],
      "execution_count": 0,
      "outputs": []
    },
    {
      "cell_type": "code",
      "metadata": {
        "id": "pS5Gxfo3nRhq",
        "colab_type": "code",
        "colab": {}
      },
      "source": [
        "def remove_urls(texts):\n",
        "    return remove_by_regexforURL(texts, re.compile(r\"http.?://[^\\s]+[\\s]?\"))\n",
        "\n",
        "def remove_by_regex(texts, regexp):\n",
        "        texts.loc[:, \"tweets\"].replace(regexp, \"\", inplace=True)\n",
        "        return texts\n",
        "\n",
        "def remove_by_regexforURL(texts, regexp):\n",
        "        texts.loc[:, \"tweets\"].replace(regexp, \"URL\", inplace=True)\n",
        "        return texts   \n"
      ],
      "execution_count": 0,
      "outputs": []
    },
    {
      "cell_type": "code",
      "metadata": {
        "id": "Zp1ACkKnpBRS",
        "colab_type": "code",
        "colab": {}
      },
      "source": [
        "df_tweets=remove_urls(df_tweets)"
      ],
      "execution_count": 0,
      "outputs": []
    },
    {
      "cell_type": "code",
      "metadata": {
        "id": "BrGeHqLXpeg_",
        "colab_type": "code",
        "outputId": "683d21fb-926f-4ef7-f6b3-aa4dcda2fb6c",
        "colab": {
          "base_uri": "https://localhost:8080/",
          "height": 33
        }
      },
      "source": [
        "df_tweets['tweets'][0]"
      ],
      "execution_count": 27,
      "outputs": [
        {
          "output_type": "execute_result",
          "data": {
            "text/plain": [
              "'Sofosbuvir and Velpatasvir for HCV Genotype 1, 2, 4, 5, and 6 Infection | NEJM URL'"
            ]
          },
          "metadata": {
            "tags": []
          },
          "execution_count": 27
        }
      ]
    },
    {
      "cell_type": "code",
      "metadata": {
        "id": "MYdrtMJAqxhw",
        "colab_type": "code",
        "colab": {}
      },
      "source": [
        "def replace_special_with_space(texts, symbol):\n",
        "    for remove in map(lambda r: re.compile(re.escape(r)), [symbol]):\n",
        "                                                                 texts.loc[:, \"tweets\"].replace(remove, \"\", inplace=True)\n",
        "    return texts"
      ],
      "execution_count": 0,
      "outputs": []
    },
    {
      "cell_type": "code",
      "metadata": {
        "id": "XbjcnBuvsUon",
        "colab_type": "code",
        "colab": {}
      },
      "source": [
        "df_tweets=replace_special_with_space(df_tweets,'@')\n",
        "df_tweets=replace_special_with_space(df_tweets,\",\")\n",
        "df_tweets =replace_special_with_space(df_tweets,\":\")\n",
        "df_tweets =replace_special_with_space(df_tweets,\"&\")\n",
        "df_tweets=replace_special_with_space(df_tweets,\";\")\n",
        "df_tweets=replace_special_with_space(df_tweets,\"/\")\n",
        "df_tweets =replace_special_with_space(df_tweets,\"=\")\n",
        "df_tweets =replace_special_with_space(df_tweets,\"%\")\n",
        "df_tweets =replace_special_with_space(df_tweets,\"$\")\n",
        "df_tweets=replace_special_with_space(df_tweets,\"(\")\n",
        "df_tweets=replace_special_with_space(df_tweets,\")\")\n",
        "df_tweets=replace_special_with_space(df_tweets,\"{\")\n",
        "df_tweets =replace_special_with_space(df_tweets,\"}\")\n",
        "df_tweets=replace_special_with_space(df_tweets,\"\\\\\")\n",
        "d_tweets=replace_special_with_space(df_tweets,\">\")\n",
        "df_tweets =replace_special_with_space(df_tweets,\"<\")\n",
        "df_tweets =replace_special_with_space(df_tweets,\"-\")\n",
        "df_tweets=replace_special_with_space(df_tweets,\"[\")\n",
        "df_tweets =replace_special_with_space(df_tweets,\"]\")\n",
        "df_tweets=replace_special_with_space(df_tweets,\"|\")\n",
        "df_tweets =replace_special_with_space(df_tweets,\"!\")\n",
        "df_tweets =replace_special_with_space(df_tweets,\"?\")\n",
        "df_tweets=replace_special_with_space(df_tweets,\".\")\n",
        "df_tweets=replace_special_with_space(df_tweets,\"#\")\n",
        "df_tweets=replace_special_with_space(df_tweets,\"|\")\n",
        "df_tweets=replace_special_with_space(df_tweets,\"]]\")"
      ],
      "execution_count": 0,
      "outputs": []
    },
    {
      "cell_type": "code",
      "metadata": {
        "id": "YZf7bfhJvbxz",
        "colab_type": "code",
        "outputId": "1f1dd4e9-b0a1-4830-8d52-d4db5b73af03",
        "colab": {
          "base_uri": "https://localhost:8080/",
          "height": 33
        }
      },
      "source": [
        "df_tweets['tweets'][1]"
      ],
      "execution_count": 30,
      "outputs": [
        {
          "output_type": "execute_result",
          "data": {
            "text/plain": [
              "'Sofosbuvir and Velpatasvir for HCV Genotype 1 2 4 5 and 6 Infection  NEJM   ASTRAL 1 trial  URL'"
            ]
          },
          "metadata": {
            "tags": []
          },
          "execution_count": 30
        }
      ]
    },
    {
      "cell_type": "code",
      "metadata": {
        "id": "PvrEvgZv4zoS",
        "colab_type": "code",
        "colab": {}
      },
      "source": [
        "# Tokenization Start\n",
        "\n",
        "def remove_non_ascii(words):\n",
        "    \"\"\"Remove non-ASCII characters from list of tokenized words\"\"\"\n",
        "    new_words = []\n",
        "    for word in words:\n",
        "        new_word = unicodedata.normalize('NFKD', word).encode('ascii', 'ignore').decode('utf-8', 'ignore')\n",
        "        new_words.append(new_word)\n",
        "    return new_words\n"
      ],
      "execution_count": 0,
      "outputs": []
    },
    {
      "cell_type": "code",
      "metadata": {
        "id": "NDRBoerE4GFR",
        "colab_type": "code",
        "colab": {}
      },
      "source": [
        "texts=[]\n",
        "for tw in df_tweets['tweets']:\n",
        "  word=nltk.word_tokenize(tw)\n",
        "  word=to_lowercase(word)\n",
        "  word=remove_punctuation(word)\n",
        "  word=remove_non_ascii(word)\n",
        "  texts.append(word)"
      ],
      "execution_count": 0,
      "outputs": []
    },
    {
      "cell_type": "code",
      "metadata": {
        "id": "_g-WIVTu5ows",
        "colab_type": "code",
        "colab": {}
      },
      "source": [
        "texts1=[' '.join(line) for line in texts]\n",
        "df_tweets['tweets']=texts1"
      ],
      "execution_count": 0,
      "outputs": []
    },
    {
      "cell_type": "code",
      "metadata": {
        "id": "66GtkUEF6tx0",
        "colab_type": "code",
        "outputId": "2122a6d1-5eb0-4bc5-b8d6-c0ec90ea00b0",
        "colab": {
          "base_uri": "https://localhost:8080/",
          "height": 33
        }
      },
      "source": [
        "df_tweets['tweets'][0]"
      ],
      "execution_count": 34,
      "outputs": [
        {
          "output_type": "execute_result",
          "data": {
            "text/plain": [
              "'sofosbuvir and velpatasvir for hcv genotype 1 2 4 5 and 6 infection nejm url'"
            ]
          },
          "metadata": {
            "tags": []
          },
          "execution_count": 34
        }
      ]
    },
    {
      "cell_type": "code",
      "metadata": {
        "id": "a_SbXGdL7b0T",
        "colab_type": "code",
        "colab": {}
      },
      "source": [
        "i=0\n",
        "j=0\n",
        "new_array=[]\n",
        "df_line=pd.DataFrame(new_array,columns=['doc_id','line_id','uni_tweet','label'])"
      ],
      "execution_count": 0,
      "outputs": []
    },
    {
      "cell_type": "code",
      "metadata": {
        "id": "hkJMcui3_Qit",
        "colab_type": "code",
        "colab": {}
      },
      "source": [
        "for tw in df_tweets['tweets']:\n",
        "  split_tweet=tw.split(\" \")\n",
        "  i=i+1\n",
        "  j=0\n",
        "  for line_tw in split_tweet:\n",
        "    j=j+1\n",
        "    df_line=df_line.append({'doc_id':i,'line_id' : j, 'tweets' : line_tw, 'uni_tweet' : line_tw, 'label' : 'Others'}, ignore_index=True )"
      ],
      "execution_count": 0,
      "outputs": []
    },
    {
      "cell_type": "code",
      "metadata": {
        "id": "DHz6bCHRN0QC",
        "colab_type": "code",
        "outputId": "a0a315be-2b89-40b0-cdef-adc893ed6f63",
        "colab": {
          "base_uri": "https://localhost:8080/",
          "height": 196
        }
      },
      "source": [
        "df_line.head()"
      ],
      "execution_count": 37,
      "outputs": [
        {
          "output_type": "execute_result",
          "data": {
            "text/html": [
              "<div>\n",
              "<style scoped>\n",
              "    .dataframe tbody tr th:only-of-type {\n",
              "        vertical-align: middle;\n",
              "    }\n",
              "\n",
              "    .dataframe tbody tr th {\n",
              "        vertical-align: top;\n",
              "    }\n",
              "\n",
              "    .dataframe thead th {\n",
              "        text-align: right;\n",
              "    }\n",
              "</style>\n",
              "<table border=\"1\" class=\"dataframe\">\n",
              "  <thead>\n",
              "    <tr style=\"text-align: right;\">\n",
              "      <th></th>\n",
              "      <th>doc_id</th>\n",
              "      <th>line_id</th>\n",
              "      <th>uni_tweet</th>\n",
              "      <th>label</th>\n",
              "      <th>tweets</th>\n",
              "    </tr>\n",
              "  </thead>\n",
              "  <tbody>\n",
              "    <tr>\n",
              "      <th>0</th>\n",
              "      <td>1</td>\n",
              "      <td>1</td>\n",
              "      <td>sofosbuvir</td>\n",
              "      <td>Others</td>\n",
              "      <td>sofosbuvir</td>\n",
              "    </tr>\n",
              "    <tr>\n",
              "      <th>1</th>\n",
              "      <td>1</td>\n",
              "      <td>2</td>\n",
              "      <td>and</td>\n",
              "      <td>Others</td>\n",
              "      <td>and</td>\n",
              "    </tr>\n",
              "    <tr>\n",
              "      <th>2</th>\n",
              "      <td>1</td>\n",
              "      <td>3</td>\n",
              "      <td>velpatasvir</td>\n",
              "      <td>Others</td>\n",
              "      <td>velpatasvir</td>\n",
              "    </tr>\n",
              "    <tr>\n",
              "      <th>3</th>\n",
              "      <td>1</td>\n",
              "      <td>4</td>\n",
              "      <td>for</td>\n",
              "      <td>Others</td>\n",
              "      <td>for</td>\n",
              "    </tr>\n",
              "    <tr>\n",
              "      <th>4</th>\n",
              "      <td>1</td>\n",
              "      <td>5</td>\n",
              "      <td>hcv</td>\n",
              "      <td>Others</td>\n",
              "      <td>hcv</td>\n",
              "    </tr>\n",
              "  </tbody>\n",
              "</table>\n",
              "</div>"
            ],
            "text/plain": [
              "  doc_id line_id    uni_tweet   label       tweets\n",
              "0      1       1   sofosbuvir  Others   sofosbuvir\n",
              "1      1       2          and  Others          and\n",
              "2      1       3  velpatasvir  Others  velpatasvir\n",
              "3      1       4          for  Others          for\n",
              "4      1       5          hcv  Others          hcv"
            ]
          },
          "metadata": {
            "tags": []
          },
          "execution_count": 37
        }
      ]
    },
    {
      "cell_type": "markdown",
      "metadata": {
        "id": "ntOkdBEo0UgV",
        "colab_type": "text"
      },
      "source": [
        "Replacing keywords with label and generate new Dataset"
      ]
    },
    {
      "cell_type": "code",
      "metadata": {
        "id": "4fxcL_Af1lhD",
        "colab_type": "code",
        "colab": {}
      },
      "source": [
        "\n",
        "for index,row in uni_keywords_df.iterrows():\n",
        "  s = row['unigram']\n",
        "  df_line['uni_tweet'] = [re.sub(r\"\\b%s\\b\" % s, 'AT', tweet) for tweet in df_line['uni_tweet']]\n",
        " \n",
        "\n",
        "raw_data=pd.DataFrame(df_line)"
      ],
      "execution_count": 0,
      "outputs": []
    },
    {
      "cell_type": "code",
      "metadata": {
        "id": "ah-V8hTD2W0t",
        "colab_type": "code",
        "outputId": "79f8a019-3ad5-4aa5-b115-001a151e3def",
        "colab": {
          "base_uri": "https://localhost:8080/",
          "height": 196
        }
      },
      "source": [
        "raw_data.head()"
      ],
      "execution_count": 39,
      "outputs": [
        {
          "output_type": "execute_result",
          "data": {
            "text/html": [
              "<div>\n",
              "<style scoped>\n",
              "    .dataframe tbody tr th:only-of-type {\n",
              "        vertical-align: middle;\n",
              "    }\n",
              "\n",
              "    .dataframe tbody tr th {\n",
              "        vertical-align: top;\n",
              "    }\n",
              "\n",
              "    .dataframe thead th {\n",
              "        text-align: right;\n",
              "    }\n",
              "</style>\n",
              "<table border=\"1\" class=\"dataframe\">\n",
              "  <thead>\n",
              "    <tr style=\"text-align: right;\">\n",
              "      <th></th>\n",
              "      <th>doc_id</th>\n",
              "      <th>line_id</th>\n",
              "      <th>uni_tweet</th>\n",
              "      <th>label</th>\n",
              "      <th>tweets</th>\n",
              "    </tr>\n",
              "  </thead>\n",
              "  <tbody>\n",
              "    <tr>\n",
              "      <th>0</th>\n",
              "      <td>1</td>\n",
              "      <td>1</td>\n",
              "      <td>AT</td>\n",
              "      <td>Others</td>\n",
              "      <td>sofosbuvir</td>\n",
              "    </tr>\n",
              "    <tr>\n",
              "      <th>1</th>\n",
              "      <td>1</td>\n",
              "      <td>2</td>\n",
              "      <td>AT</td>\n",
              "      <td>Others</td>\n",
              "      <td>and</td>\n",
              "    </tr>\n",
              "    <tr>\n",
              "      <th>2</th>\n",
              "      <td>1</td>\n",
              "      <td>3</td>\n",
              "      <td>AT</td>\n",
              "      <td>Others</td>\n",
              "      <td>velpatasvir</td>\n",
              "    </tr>\n",
              "    <tr>\n",
              "      <th>3</th>\n",
              "      <td>1</td>\n",
              "      <td>4</td>\n",
              "      <td>AT</td>\n",
              "      <td>Others</td>\n",
              "      <td>for</td>\n",
              "    </tr>\n",
              "    <tr>\n",
              "      <th>4</th>\n",
              "      <td>1</td>\n",
              "      <td>5</td>\n",
              "      <td>AT</td>\n",
              "      <td>Others</td>\n",
              "      <td>hcv</td>\n",
              "    </tr>\n",
              "  </tbody>\n",
              "</table>\n",
              "</div>"
            ],
            "text/plain": [
              "  doc_id line_id uni_tweet   label       tweets\n",
              "0      1       1        AT  Others   sofosbuvir\n",
              "1      1       2        AT  Others          and\n",
              "2      1       3        AT  Others  velpatasvir\n",
              "3      1       4        AT  Others          for\n",
              "4      1       5        AT  Others          hcv"
            ]
          },
          "metadata": {
            "tags": []
          },
          "execution_count": 39
        }
      ]
    },
    {
      "cell_type": "code",
      "metadata": {
        "id": "2gLuHadl3PWx",
        "colab_type": "code",
        "colab": {}
      },
      "source": [
        "new_array=[]\n",
        "final_df=pd.DataFrame(new_array,columns=['doc_id','line_id','word','uni_label'])"
      ],
      "execution_count": 0,
      "outputs": []
    },
    {
      "cell_type": "code",
      "metadata": {
        "id": "R7eDTw6M4C6X",
        "colab_type": "code",
        "colab": {}
      },
      "source": [
        "for index,row in df_line.iterrows():\n",
        "  tweet_word=row['tweets'].split(\" \")\n",
        "  tweet_label_uni=row['uni_tweet'].split(\" \")\n",
        "  \n",
        "  i=0\n",
        "  for word_row in tweet_word:\n",
        "    uni_label=tweet_label_uni[i]\n",
        "   \n",
        "    if word_row==tweet_label_uni[i]:\n",
        "      uni_label=\"Others\"\n",
        "   \n",
        "    if word_row !=\" \":\n",
        "      final_df=final_df.append({'doc_id':row['doc_id'] ,'line_id' : row['line_id'], 'word': word_row, 'uni_label': uni_label},ignore_index=True)\n",
        "    i=i+1"
      ],
      "execution_count": 0,
      "outputs": []
    },
    {
      "cell_type": "code",
      "metadata": {
        "id": "VpAxJriZ5Vmo",
        "colab_type": "code",
        "outputId": "9e7ec733-a8bb-4aea-e89e-a81103bae612",
        "colab": {
          "base_uri": "https://localhost:8080/",
          "height": 1000
        }
      },
      "source": [
        "final_df[:50]"
      ],
      "execution_count": 42,
      "outputs": [
        {
          "output_type": "execute_result",
          "data": {
            "text/html": [
              "<div>\n",
              "<style scoped>\n",
              "    .dataframe tbody tr th:only-of-type {\n",
              "        vertical-align: middle;\n",
              "    }\n",
              "\n",
              "    .dataframe tbody tr th {\n",
              "        vertical-align: top;\n",
              "    }\n",
              "\n",
              "    .dataframe thead th {\n",
              "        text-align: right;\n",
              "    }\n",
              "</style>\n",
              "<table border=\"1\" class=\"dataframe\">\n",
              "  <thead>\n",
              "    <tr style=\"text-align: right;\">\n",
              "      <th></th>\n",
              "      <th>doc_id</th>\n",
              "      <th>line_id</th>\n",
              "      <th>word</th>\n",
              "      <th>uni_label</th>\n",
              "    </tr>\n",
              "  </thead>\n",
              "  <tbody>\n",
              "    <tr>\n",
              "      <th>0</th>\n",
              "      <td>1</td>\n",
              "      <td>1</td>\n",
              "      <td>sofosbuvir</td>\n",
              "      <td>AT</td>\n",
              "    </tr>\n",
              "    <tr>\n",
              "      <th>1</th>\n",
              "      <td>1</td>\n",
              "      <td>2</td>\n",
              "      <td>and</td>\n",
              "      <td>AT</td>\n",
              "    </tr>\n",
              "    <tr>\n",
              "      <th>2</th>\n",
              "      <td>1</td>\n",
              "      <td>3</td>\n",
              "      <td>velpatasvir</td>\n",
              "      <td>AT</td>\n",
              "    </tr>\n",
              "    <tr>\n",
              "      <th>3</th>\n",
              "      <td>1</td>\n",
              "      <td>4</td>\n",
              "      <td>for</td>\n",
              "      <td>AT</td>\n",
              "    </tr>\n",
              "    <tr>\n",
              "      <th>4</th>\n",
              "      <td>1</td>\n",
              "      <td>5</td>\n",
              "      <td>hcv</td>\n",
              "      <td>AT</td>\n",
              "    </tr>\n",
              "    <tr>\n",
              "      <th>5</th>\n",
              "      <td>1</td>\n",
              "      <td>6</td>\n",
              "      <td>genotype</td>\n",
              "      <td>AT</td>\n",
              "    </tr>\n",
              "    <tr>\n",
              "      <th>6</th>\n",
              "      <td>1</td>\n",
              "      <td>7</td>\n",
              "      <td>1</td>\n",
              "      <td>Others</td>\n",
              "    </tr>\n",
              "    <tr>\n",
              "      <th>7</th>\n",
              "      <td>1</td>\n",
              "      <td>8</td>\n",
              "      <td>2</td>\n",
              "      <td>AT</td>\n",
              "    </tr>\n",
              "    <tr>\n",
              "      <th>8</th>\n",
              "      <td>1</td>\n",
              "      <td>9</td>\n",
              "      <td>4</td>\n",
              "      <td>Others</td>\n",
              "    </tr>\n",
              "    <tr>\n",
              "      <th>9</th>\n",
              "      <td>1</td>\n",
              "      <td>10</td>\n",
              "      <td>5</td>\n",
              "      <td>AT</td>\n",
              "    </tr>\n",
              "    <tr>\n",
              "      <th>10</th>\n",
              "      <td>1</td>\n",
              "      <td>11</td>\n",
              "      <td>and</td>\n",
              "      <td>AT</td>\n",
              "    </tr>\n",
              "    <tr>\n",
              "      <th>11</th>\n",
              "      <td>1</td>\n",
              "      <td>12</td>\n",
              "      <td>6</td>\n",
              "      <td>Others</td>\n",
              "    </tr>\n",
              "    <tr>\n",
              "      <th>12</th>\n",
              "      <td>1</td>\n",
              "      <td>13</td>\n",
              "      <td>infection</td>\n",
              "      <td>AT</td>\n",
              "    </tr>\n",
              "    <tr>\n",
              "      <th>13</th>\n",
              "      <td>1</td>\n",
              "      <td>14</td>\n",
              "      <td>nejm</td>\n",
              "      <td>Others</td>\n",
              "    </tr>\n",
              "    <tr>\n",
              "      <th>14</th>\n",
              "      <td>1</td>\n",
              "      <td>15</td>\n",
              "      <td>url</td>\n",
              "      <td>Others</td>\n",
              "    </tr>\n",
              "    <tr>\n",
              "      <th>15</th>\n",
              "      <td>2</td>\n",
              "      <td>1</td>\n",
              "      <td>sofosbuvir</td>\n",
              "      <td>AT</td>\n",
              "    </tr>\n",
              "    <tr>\n",
              "      <th>16</th>\n",
              "      <td>2</td>\n",
              "      <td>2</td>\n",
              "      <td>and</td>\n",
              "      <td>AT</td>\n",
              "    </tr>\n",
              "    <tr>\n",
              "      <th>17</th>\n",
              "      <td>2</td>\n",
              "      <td>3</td>\n",
              "      <td>velpatasvir</td>\n",
              "      <td>AT</td>\n",
              "    </tr>\n",
              "    <tr>\n",
              "      <th>18</th>\n",
              "      <td>2</td>\n",
              "      <td>4</td>\n",
              "      <td>for</td>\n",
              "      <td>AT</td>\n",
              "    </tr>\n",
              "    <tr>\n",
              "      <th>19</th>\n",
              "      <td>2</td>\n",
              "      <td>5</td>\n",
              "      <td>hcv</td>\n",
              "      <td>AT</td>\n",
              "    </tr>\n",
              "    <tr>\n",
              "      <th>20</th>\n",
              "      <td>2</td>\n",
              "      <td>6</td>\n",
              "      <td>genotype</td>\n",
              "      <td>AT</td>\n",
              "    </tr>\n",
              "    <tr>\n",
              "      <th>21</th>\n",
              "      <td>2</td>\n",
              "      <td>7</td>\n",
              "      <td>1</td>\n",
              "      <td>Others</td>\n",
              "    </tr>\n",
              "    <tr>\n",
              "      <th>22</th>\n",
              "      <td>2</td>\n",
              "      <td>8</td>\n",
              "      <td>2</td>\n",
              "      <td>AT</td>\n",
              "    </tr>\n",
              "    <tr>\n",
              "      <th>23</th>\n",
              "      <td>2</td>\n",
              "      <td>9</td>\n",
              "      <td>4</td>\n",
              "      <td>Others</td>\n",
              "    </tr>\n",
              "    <tr>\n",
              "      <th>24</th>\n",
              "      <td>2</td>\n",
              "      <td>10</td>\n",
              "      <td>5</td>\n",
              "      <td>AT</td>\n",
              "    </tr>\n",
              "    <tr>\n",
              "      <th>25</th>\n",
              "      <td>2</td>\n",
              "      <td>11</td>\n",
              "      <td>and</td>\n",
              "      <td>AT</td>\n",
              "    </tr>\n",
              "    <tr>\n",
              "      <th>26</th>\n",
              "      <td>2</td>\n",
              "      <td>12</td>\n",
              "      <td>6</td>\n",
              "      <td>Others</td>\n",
              "    </tr>\n",
              "    <tr>\n",
              "      <th>27</th>\n",
              "      <td>2</td>\n",
              "      <td>13</td>\n",
              "      <td>infection</td>\n",
              "      <td>AT</td>\n",
              "    </tr>\n",
              "    <tr>\n",
              "      <th>28</th>\n",
              "      <td>2</td>\n",
              "      <td>14</td>\n",
              "      <td>nejm</td>\n",
              "      <td>Others</td>\n",
              "    </tr>\n",
              "    <tr>\n",
              "      <th>29</th>\n",
              "      <td>2</td>\n",
              "      <td>15</td>\n",
              "      <td>astral</td>\n",
              "      <td>Others</td>\n",
              "    </tr>\n",
              "    <tr>\n",
              "      <th>30</th>\n",
              "      <td>2</td>\n",
              "      <td>16</td>\n",
              "      <td>1</td>\n",
              "      <td>Others</td>\n",
              "    </tr>\n",
              "    <tr>\n",
              "      <th>31</th>\n",
              "      <td>2</td>\n",
              "      <td>17</td>\n",
              "      <td>trial</td>\n",
              "      <td>AT</td>\n",
              "    </tr>\n",
              "    <tr>\n",
              "      <th>32</th>\n",
              "      <td>2</td>\n",
              "      <td>18</td>\n",
              "      <td>url</td>\n",
              "      <td>Others</td>\n",
              "    </tr>\n",
              "    <tr>\n",
              "      <th>33</th>\n",
              "      <td>3</td>\n",
              "      <td>1</td>\n",
              "      <td>rt</td>\n",
              "      <td>Others</td>\n",
              "    </tr>\n",
              "    <tr>\n",
              "      <th>34</th>\n",
              "      <td>3</td>\n",
              "      <td>2</td>\n",
              "      <td>nejm</td>\n",
              "      <td>Others</td>\n",
              "    </tr>\n",
              "    <tr>\n",
              "      <th>35</th>\n",
              "      <td>3</td>\n",
              "      <td>3</td>\n",
              "      <td>presented</td>\n",
              "      <td>Others</td>\n",
              "    </tr>\n",
              "    <tr>\n",
              "      <th>36</th>\n",
              "      <td>3</td>\n",
              "      <td>4</td>\n",
              "      <td>monday</td>\n",
              "      <td>Others</td>\n",
              "    </tr>\n",
              "    <tr>\n",
              "      <th>37</th>\n",
              "      <td>3</td>\n",
              "      <td>5</td>\n",
              "      <td>at</td>\n",
              "      <td>AT</td>\n",
              "    </tr>\n",
              "    <tr>\n",
              "      <th>38</th>\n",
              "      <td>3</td>\n",
              "      <td>6</td>\n",
              "      <td>liver15</td>\n",
              "      <td>Others</td>\n",
              "    </tr>\n",
              "    <tr>\n",
              "      <th>39</th>\n",
              "      <td>3</td>\n",
              "      <td>7</td>\n",
              "      <td>sofosbuvir</td>\n",
              "      <td>AT</td>\n",
              "    </tr>\n",
              "    <tr>\n",
              "      <th>40</th>\n",
              "      <td>3</td>\n",
              "      <td>8</td>\n",
              "      <td>and</td>\n",
              "      <td>AT</td>\n",
              "    </tr>\n",
              "    <tr>\n",
              "      <th>41</th>\n",
              "      <td>3</td>\n",
              "      <td>9</td>\n",
              "      <td>velpatasvir</td>\n",
              "      <td>AT</td>\n",
              "    </tr>\n",
              "    <tr>\n",
              "      <th>42</th>\n",
              "      <td>3</td>\n",
              "      <td>10</td>\n",
              "      <td>for</td>\n",
              "      <td>AT</td>\n",
              "    </tr>\n",
              "    <tr>\n",
              "      <th>43</th>\n",
              "      <td>3</td>\n",
              "      <td>11</td>\n",
              "      <td>hcv</td>\n",
              "      <td>AT</td>\n",
              "    </tr>\n",
              "    <tr>\n",
              "      <th>44</th>\n",
              "      <td>3</td>\n",
              "      <td>12</td>\n",
              "      <td>genotypes</td>\n",
              "      <td>Others</td>\n",
              "    </tr>\n",
              "    <tr>\n",
              "      <th>45</th>\n",
              "      <td>3</td>\n",
              "      <td>13</td>\n",
              "      <td>1</td>\n",
              "      <td>Others</td>\n",
              "    </tr>\n",
              "    <tr>\n",
              "      <th>46</th>\n",
              "      <td>3</td>\n",
              "      <td>14</td>\n",
              "      <td>2</td>\n",
              "      <td>AT</td>\n",
              "    </tr>\n",
              "    <tr>\n",
              "      <th>47</th>\n",
              "      <td>3</td>\n",
              "      <td>15</td>\n",
              "      <td>4</td>\n",
              "      <td>Others</td>\n",
              "    </tr>\n",
              "    <tr>\n",
              "      <th>48</th>\n",
              "      <td>3</td>\n",
              "      <td>16</td>\n",
              "      <td>5</td>\n",
              "      <td>AT</td>\n",
              "    </tr>\n",
              "    <tr>\n",
              "      <th>49</th>\n",
              "      <td>3</td>\n",
              "      <td>17</td>\n",
              "      <td>and</td>\n",
              "      <td>AT</td>\n",
              "    </tr>\n",
              "  </tbody>\n",
              "</table>\n",
              "</div>"
            ],
            "text/plain": [
              "   doc_id line_id         word uni_label\n",
              "0       1       1   sofosbuvir        AT\n",
              "1       1       2          and        AT\n",
              "2       1       3  velpatasvir        AT\n",
              "3       1       4          for        AT\n",
              "4       1       5          hcv        AT\n",
              "5       1       6     genotype        AT\n",
              "6       1       7            1    Others\n",
              "7       1       8            2        AT\n",
              "8       1       9            4    Others\n",
              "9       1      10            5        AT\n",
              "10      1      11          and        AT\n",
              "11      1      12            6    Others\n",
              "12      1      13    infection        AT\n",
              "13      1      14         nejm    Others\n",
              "14      1      15          url    Others\n",
              "15      2       1   sofosbuvir        AT\n",
              "16      2       2          and        AT\n",
              "17      2       3  velpatasvir        AT\n",
              "18      2       4          for        AT\n",
              "19      2       5          hcv        AT\n",
              "20      2       6     genotype        AT\n",
              "21      2       7            1    Others\n",
              "22      2       8            2        AT\n",
              "23      2       9            4    Others\n",
              "24      2      10            5        AT\n",
              "25      2      11          and        AT\n",
              "26      2      12            6    Others\n",
              "27      2      13    infection        AT\n",
              "28      2      14         nejm    Others\n",
              "29      2      15       astral    Others\n",
              "30      2      16            1    Others\n",
              "31      2      17        trial        AT\n",
              "32      2      18          url    Others\n",
              "33      3       1           rt    Others\n",
              "34      3       2         nejm    Others\n",
              "35      3       3    presented    Others\n",
              "36      3       4       monday    Others\n",
              "37      3       5           at        AT\n",
              "38      3       6      liver15    Others\n",
              "39      3       7   sofosbuvir        AT\n",
              "40      3       8          and        AT\n",
              "41      3       9  velpatasvir        AT\n",
              "42      3      10          for        AT\n",
              "43      3      11          hcv        AT\n",
              "44      3      12    genotypes    Others\n",
              "45      3      13            1    Others\n",
              "46      3      14            2        AT\n",
              "47      3      15            4    Others\n",
              "48      3      16            5        AT\n",
              "49      3      17          and        AT"
            ]
          },
          "metadata": {
            "tags": []
          },
          "execution_count": 42
        }
      ]
    },
    {
      "cell_type": "code",
      "metadata": {
        "id": "O77fc_9j8cRy",
        "colab_type": "code",
        "colab": {}
      },
      "source": [
        "final_df.to_excel(\"label_dataset.xlsx\")"
      ],
      "execution_count": 0,
      "outputs": []
    }
  ]
}